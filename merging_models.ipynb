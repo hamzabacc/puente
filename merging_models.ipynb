{
 "cells": [
  {
   "cell_type": "code",
   "execution_count": 1,
   "metadata": {},
   "outputs": [],
   "source": [
    "import pandas as pd\n",
    "import numpy as np\n",
    "import seaborn as sns\n",
    "import matplotlib.pyplot as plt\n",
    "\n",
    "sns.set_palette(\"colorblind\")\n",
    "sns.set(font_scale = 1.1)\n",
    "sns.set_style(\"whitegrid\")"
   ]
  },
  {
   "cell_type": "code",
   "execution_count": 51,
   "metadata": {},
   "outputs": [],
   "source": [
    "survey_vitals = pd.read_csv(\"survey_vitals_clean.csv\").drop(columns = 'Unnamed: 0')\n",
    "eval_med = pd.read_csv(\"evaluation_medical_clean.csv\").drop(columns = 'Unnamed: 0')\n",
    "history_env = pd.read_csv(\"history_env_clean.csv\").drop(columns = 'Unnamed: 0')"
   ]
  },
  {
   "cell_type": "markdown",
   "metadata": {},
   "source": [
    "### Clustering based on geopoint data"
   ]
  },
  {
   "cell_type": "code",
   "execution_count": 52,
   "metadata": {},
   "outputs": [],
   "source": [
    "from sklearn.preprocessing import StandardScaler\n",
    "from sklearn.pipeline import Pipeline\n",
    "from sklearn.decomposition import PCA\n",
    "import matplotlib.pyplot as plt\n",
    "from sklearn.cluster import KMeans\n",
    "from sklearn.metrics import silhouette_samples, silhouette_score\n",
    "import matplotlib.cm as cm\n",
    "import seaborn as sns\n",
    "from sklearn.impute import SimpleImputer"
   ]
  },
  {
   "cell_type": "code",
   "execution_count": 53,
   "metadata": {},
   "outputs": [
    {
     "data": {
      "text/html": [
       "<div>\n",
       "<style scoped>\n",
       "    .dataframe tbody tr th:only-of-type {\n",
       "        vertical-align: middle;\n",
       "    }\n",
       "\n",
       "    .dataframe tbody tr th {\n",
       "        vertical-align: top;\n",
       "    }\n",
       "\n",
       "    .dataframe thead th {\n",
       "        text-align: right;\n",
       "    }\n",
       "</style>\n",
       "<table border=\"1\" class=\"dataframe\">\n",
       "  <thead>\n",
       "    <tr style=\"text-align: right;\">\n",
       "      <th></th>\n",
       "      <th>objectId</th>\n",
       "      <th>marriageStatus</th>\n",
       "      <th>occupation</th>\n",
       "      <th>educationLevel</th>\n",
       "      <th>latitude</th>\n",
       "      <th>longitude</th>\n",
       "      <th>city</th>\n",
       "      <th>province</th>\n",
       "      <th>age</th>\n",
       "      <th>sex</th>\n",
       "    </tr>\n",
       "  </thead>\n",
       "  <tbody>\n",
       "    <tr>\n",
       "      <th>0</th>\n",
       "      <td>XHCkKebF4a</td>\n",
       "      <td>single</td>\n",
       "      <td>Ama de casa</td>\n",
       "      <td>lessThanprimary</td>\n",
       "      <td>18.912087</td>\n",
       "      <td>-70.743801</td>\n",
       "      <td>NaN</td>\n",
       "      <td>NaN</td>\n",
       "      <td>34.0</td>\n",
       "      <td>female</td>\n",
       "    </tr>\n",
       "    <tr>\n",
       "      <th>1</th>\n",
       "      <td>ITCa1BkIiK</td>\n",
       "      <td>single</td>\n",
       "      <td>Ama de casa</td>\n",
       "      <td>someHighSchool</td>\n",
       "      <td>18.913084</td>\n",
       "      <td>-70.744104</td>\n",
       "      <td>NaN</td>\n",
       "      <td>NaN</td>\n",
       "      <td>52.0</td>\n",
       "      <td>female</td>\n",
       "    </tr>\n",
       "    <tr>\n",
       "      <th>2</th>\n",
       "      <td>AKjkw9A25J</td>\n",
       "      <td>single</td>\n",
       "      <td>Other</td>\n",
       "      <td>someHighSchool</td>\n",
       "      <td>18.913084</td>\n",
       "      <td>-70.744016</td>\n",
       "      <td>NaN</td>\n",
       "      <td>NaN</td>\n",
       "      <td>39.0</td>\n",
       "      <td>male</td>\n",
       "    </tr>\n",
       "    <tr>\n",
       "      <th>3</th>\n",
       "      <td>jk3fDkMvN9</td>\n",
       "      <td>single</td>\n",
       "      <td>Ama de casa</td>\n",
       "      <td>lessThanprimary</td>\n",
       "      <td>18.913325</td>\n",
       "      <td>-70.744557</td>\n",
       "      <td>NaN</td>\n",
       "      <td>NaN</td>\n",
       "      <td>39.0</td>\n",
       "      <td>female</td>\n",
       "    </tr>\n",
       "    <tr>\n",
       "      <th>4</th>\n",
       "      <td>pPgDn3kfGL</td>\n",
       "      <td>single</td>\n",
       "      <td>Estudiante</td>\n",
       "      <td>someHighSchool</td>\n",
       "      <td>18.913523</td>\n",
       "      <td>-70.745053</td>\n",
       "      <td>NaN</td>\n",
       "      <td>NaN</td>\n",
       "      <td>23.0</td>\n",
       "      <td>male</td>\n",
       "    </tr>\n",
       "  </tbody>\n",
       "</table>\n",
       "</div>"
      ],
      "text/plain": [
       "     objectId marriageStatus   occupation   educationLevel   latitude  \\\n",
       "0  XHCkKebF4a         single  Ama de casa  lessThanprimary  18.912087   \n",
       "1  ITCa1BkIiK         single  Ama de casa   someHighSchool  18.913084   \n",
       "2  AKjkw9A25J         single        Other   someHighSchool  18.913084   \n",
       "3  jk3fDkMvN9         single  Ama de casa  lessThanprimary  18.913325   \n",
       "4  pPgDn3kfGL         single   Estudiante   someHighSchool  18.913523   \n",
       "\n",
       "   longitude city province   age     sex  \n",
       "0 -70.743801  NaN      NaN  34.0  female  \n",
       "1 -70.744104  NaN      NaN  52.0  female  \n",
       "2 -70.744016  NaN      NaN  39.0    male  \n",
       "3 -70.744557  NaN      NaN  39.0  female  \n",
       "4 -70.745053  NaN      NaN  23.0    male  "
      ]
     },
     "execution_count": 53,
     "metadata": {},
     "output_type": "execute_result"
    }
   ],
   "source": [
    "survey_vitals.head()"
   ]
  },
  {
   "cell_type": "code",
   "execution_count": 54,
   "metadata": {},
   "outputs": [],
   "source": [
    "geo_loc = survey_vitals.loc[:, [\"latitude\", \"longitude\"]]"
   ]
  },
  {
   "cell_type": "code",
   "execution_count": 55,
   "metadata": {},
   "outputs": [],
   "source": [
    "scaler = StandardScaler()"
   ]
  },
  {
   "cell_type": "code",
   "execution_count": 56,
   "metadata": {},
   "outputs": [],
   "source": [
    "transformed_geo = scaler.fit_transform(geo_loc)"
   ]
  },
  {
   "cell_type": "code",
   "execution_count": 57,
   "metadata": {},
   "outputs": [
    {
     "data": {
      "text/plain": [
       "[<matplotlib.lines.Line2D at 0x7fd4bd610790>]"
      ]
     },
     "execution_count": 57,
     "metadata": {},
     "output_type": "execute_result"
    },
    {
     "data": {
      "image/png": "[encoded data removed]",
      "text/plain": [
       "<Figure size 432x288 with 1 Axes>"
      ]
     },
     "metadata": {},
     "output_type": "display_data"
    }
   ],
   "source": [
    "inertias = []\n",
    "num_clusters = [1,2,3,4,5,6,7,8]\n",
    "for k in num_clusters:\n",
    "    model = KMeans(n_clusters = k, random_state = 42)\n",
    "    model.fit(transformed_geo)\n",
    "    inertias.append(model.inertia_)\n",
    "\n",
    "plt.plot(num_clusters, inertias, \"-o\")"
   ]
  },
  {
   "cell_type": "code",
   "execution_count": 58,
   "metadata": {},
   "outputs": [
    {
     "data": {
      "text/plain": [
       "array([1, 1, 1, ..., 2, 2, 2], dtype=int32)"
      ]
     },
     "execution_count": 58,
     "metadata": {},
     "output_type": "execute_result"
    }
   ],
   "source": [
    "model_KMeans =  KMeans(n_clusters = 4, random_state = 42)\n",
    "labels = model_KMeans.fit_predict(transformed_geo)\n",
    "labels"
   ]
  },
  {
   "cell_type": "code",
   "execution_count": 59,
   "metadata": {},
   "outputs": [
    {
     "data": {
      "text/html": [
       "<div>\n",
       "<style scoped>\n",
       "    .dataframe tbody tr th:only-of-type {\n",
       "        vertical-align: middle;\n",
       "    }\n",
       "\n",
       "    .dataframe tbody tr th {\n",
       "        vertical-align: top;\n",
       "    }\n",
       "\n",
       "    .dataframe thead th {\n",
       "        text-align: right;\n",
       "    }\n",
       "</style>\n",
       "<table border=\"1\" class=\"dataframe\">\n",
       "  <thead>\n",
       "    <tr style=\"text-align: right;\">\n",
       "      <th></th>\n",
       "      <th>objectId</th>\n",
       "      <th>marriageStatus</th>\n",
       "      <th>occupation</th>\n",
       "      <th>educationLevel</th>\n",
       "      <th>latitude</th>\n",
       "      <th>longitude</th>\n",
       "      <th>city</th>\n",
       "      <th>province</th>\n",
       "      <th>age</th>\n",
       "      <th>sex</th>\n",
       "      <th>clustersByLoc</th>\n",
       "    </tr>\n",
       "  </thead>\n",
       "  <tbody>\n",
       "    <tr>\n",
       "      <th>0</th>\n",
       "      <td>XHCkKebF4a</td>\n",
       "      <td>single</td>\n",
       "      <td>Ama de casa</td>\n",
       "      <td>lessThanprimary</td>\n",
       "      <td>18.912087</td>\n",
       "      <td>-70.743801</td>\n",
       "      <td>NaN</td>\n",
       "      <td>NaN</td>\n",
       "      <td>34.0</td>\n",
       "      <td>female</td>\n",
       "      <td>1</td>\n",
       "    </tr>\n",
       "    <tr>\n",
       "      <th>1</th>\n",
       "      <td>ITCa1BkIiK</td>\n",
       "      <td>single</td>\n",
       "      <td>Ama de casa</td>\n",
       "      <td>someHighSchool</td>\n",
       "      <td>18.913084</td>\n",
       "      <td>-70.744104</td>\n",
       "      <td>NaN</td>\n",
       "      <td>NaN</td>\n",
       "      <td>52.0</td>\n",
       "      <td>female</td>\n",
       "      <td>1</td>\n",
       "    </tr>\n",
       "    <tr>\n",
       "      <th>2</th>\n",
       "      <td>AKjkw9A25J</td>\n",
       "      <td>single</td>\n",
       "      <td>Other</td>\n",
       "      <td>someHighSchool</td>\n",
       "      <td>18.913084</td>\n",
       "      <td>-70.744016</td>\n",
       "      <td>NaN</td>\n",
       "      <td>NaN</td>\n",
       "      <td>39.0</td>\n",
       "      <td>male</td>\n",
       "      <td>1</td>\n",
       "    </tr>\n",
       "    <tr>\n",
       "      <th>3</th>\n",
       "      <td>jk3fDkMvN9</td>\n",
       "      <td>single</td>\n",
       "      <td>Ama de casa</td>\n",
       "      <td>lessThanprimary</td>\n",
       "      <td>18.913325</td>\n",
       "      <td>-70.744557</td>\n",
       "      <td>NaN</td>\n",
       "      <td>NaN</td>\n",
       "      <td>39.0</td>\n",
       "      <td>female</td>\n",
       "      <td>1</td>\n",
       "    </tr>\n",
       "    <tr>\n",
       "      <th>4</th>\n",
       "      <td>pPgDn3kfGL</td>\n",
       "      <td>single</td>\n",
       "      <td>Estudiante</td>\n",
       "      <td>someHighSchool</td>\n",
       "      <td>18.913523</td>\n",
       "      <td>-70.745053</td>\n",
       "      <td>NaN</td>\n",
       "      <td>NaN</td>\n",
       "      <td>23.0</td>\n",
       "      <td>male</td>\n",
       "      <td>1</td>\n",
       "    </tr>\n",
       "  </tbody>\n",
       "</table>\n",
       "</div>"
      ],
      "text/plain": [
       "     objectId marriageStatus   occupation   educationLevel   latitude  \\\n",
       "0  XHCkKebF4a         single  Ama de casa  lessThanprimary  18.912087   \n",
       "1  ITCa1BkIiK         single  Ama de casa   someHighSchool  18.913084   \n",
       "2  AKjkw9A25J         single        Other   someHighSchool  18.913084   \n",
       "3  jk3fDkMvN9         single  Ama de casa  lessThanprimary  18.913325   \n",
       "4  pPgDn3kfGL         single   Estudiante   someHighSchool  18.913523   \n",
       "\n",
       "   longitude city province   age     sex  clustersByLoc  \n",
       "0 -70.743801  NaN      NaN  34.0  female              1  \n",
       "1 -70.744104  NaN      NaN  52.0  female              1  \n",
       "2 -70.744016  NaN      NaN  39.0    male              1  \n",
       "3 -70.744557  NaN      NaN  39.0  female              1  \n",
       "4 -70.745053  NaN      NaN  23.0    male              1  "
      ]
     },
     "execution_count": 59,
     "metadata": {},
     "output_type": "execute_result"
    }
   ],
   "source": [
    "survey_vitals[\"clustersByLoc\"] = list(labels)\n",
    "survey_vitals.head()"
   ]
  },
  {
   "cell_type": "code",
   "execution_count": 60,
   "metadata": {},
   "outputs": [
    {
     "data": {
      "image/png": "[encoded data removed]",
      "text/plain": [
       "<Figure size 1152x720 with 1 Axes>"
      ]
     },
     "metadata": {},
     "output_type": "display_data"
    }
   ],
   "source": [
    "plt.figure(figsize = (16,10))\n",
    "ax = sns.scatterplot(data = survey_vitals, x = \"longitude\", y = \"latitude\", hue = \"clustersByLoc\", palette = \"deep\")"
   ]
  },
  {
   "cell_type": "markdown",
   "metadata": {},
   "source": [
    "# Mergings"
   ]
  },
  {
   "cell_type": "markdown",
   "metadata": {},
   "source": [
    "### 1. History_env x survey_vitals"
   ]
  },
  {
   "cell_type": "code",
   "execution_count": 65,
   "metadata": {},
   "outputs": [],
   "source": [
    "survey_environ = survey_vitals.merge(history_env, how = \"inner\", on = \"objectId\")"
   ]
  },
  {
   "cell_type": "code",
   "execution_count": 66,
   "metadata": {},
   "outputs": [
    {
     "data": {
      "text/html": [
       "<div>\n",
       "<style scoped>\n",
       "    .dataframe tbody tr th:only-of-type {\n",
       "        vertical-align: middle;\n",
       "    }\n",
       "\n",
       "    .dataframe tbody tr th {\n",
       "        vertical-align: top;\n",
       "    }\n",
       "\n",
       "    .dataframe thead th {\n",
       "        text-align: right;\n",
       "    }\n",
       "</style>\n",
       "<table border=\"1\" class=\"dataframe\">\n",
       "  <thead>\n",
       "    <tr style=\"text-align: right;\">\n",
       "      <th></th>\n",
       "      <th>objectId</th>\n",
       "      <th>marriageStatus</th>\n",
       "      <th>occupation</th>\n",
       "      <th>educationLevel</th>\n",
       "      <th>latitude</th>\n",
       "      <th>longitude</th>\n",
       "      <th>city</th>\n",
       "      <th>province</th>\n",
       "      <th>age</th>\n",
       "      <th>sex</th>\n",
       "      <th>...</th>\n",
       "      <th>conditionoRoofinyourhouse</th>\n",
       "      <th>medicalproblemswheredoyougo</th>\n",
       "      <th>dentalproblemswheredoyougo</th>\n",
       "      <th>biggestproblemofcommunity</th>\n",
       "      <th>timesperweektrashcollected</th>\n",
       "      <th>wheretrashleftbetweenpickups</th>\n",
       "      <th>numberofIndividualsLivingintheHouse</th>\n",
       "      <th>numberofChildrenLivinginHouseUndertheAgeof5</th>\n",
       "      <th>houseownership</th>\n",
       "      <th>bathroomAccess</th>\n",
       "    </tr>\n",
       "  </thead>\n",
       "  <tbody>\n",
       "    <tr>\n",
       "      <th>0</th>\n",
       "      <td>lLkC5HGPOC</td>\n",
       "      <td>widow</td>\n",
       "      <td>Ama de casa</td>\n",
       "      <td>lessThanprimary</td>\n",
       "      <td>18.914416</td>\n",
       "      <td>-70.745642</td>\n",
       "      <td>NaN</td>\n",
       "      <td>NaN</td>\n",
       "      <td>67.0</td>\n",
       "      <td>female</td>\n",
       "      <td>...</td>\n",
       "      <td>working</td>\n",
       "      <td>Other Hospital</td>\n",
       "      <td>Other Hospital</td>\n",
       "      <td>Roads</td>\n",
       "      <td>1-2</td>\n",
       "      <td>other</td>\n",
       "      <td>1</td>\n",
       "      <td>0</td>\n",
       "      <td>rented</td>\n",
       "      <td>NaN</td>\n",
       "    </tr>\n",
       "    <tr>\n",
       "      <th>1</th>\n",
       "      <td>lLkC5HGPOC</td>\n",
       "      <td>widow</td>\n",
       "      <td>Ama de casa</td>\n",
       "      <td>lessThanprimary</td>\n",
       "      <td>18.914416</td>\n",
       "      <td>-70.745642</td>\n",
       "      <td>NaN</td>\n",
       "      <td>NaN</td>\n",
       "      <td>67.0</td>\n",
       "      <td>female</td>\n",
       "      <td>...</td>\n",
       "      <td>working</td>\n",
       "      <td>Other Hospital</td>\n",
       "      <td>Other Hospital</td>\n",
       "      <td>Roads</td>\n",
       "      <td>1-2</td>\n",
       "      <td>other</td>\n",
       "      <td>1</td>\n",
       "      <td>0</td>\n",
       "      <td>rented</td>\n",
       "      <td>NaN</td>\n",
       "    </tr>\n",
       "    <tr>\n",
       "      <th>2</th>\n",
       "      <td>gIoG2SAL99</td>\n",
       "      <td>widow</td>\n",
       "      <td>Other</td>\n",
       "      <td>lessThanprimary</td>\n",
       "      <td>18.914196</td>\n",
       "      <td>-70.746286</td>\n",
       "      <td>NaN</td>\n",
       "      <td>NaN</td>\n",
       "      <td>80.0</td>\n",
       "      <td>male</td>\n",
       "      <td>...</td>\n",
       "      <td>poor</td>\n",
       "      <td>Other Hospital</td>\n",
       "      <td>Dentist</td>\n",
       "      <td>Roads</td>\n",
       "      <td>1-2</td>\n",
       "      <td>other</td>\n",
       "      <td>5</td>\n",
       "      <td>0</td>\n",
       "      <td>owned</td>\n",
       "      <td>NaN</td>\n",
       "    </tr>\n",
       "    <tr>\n",
       "      <th>3</th>\n",
       "      <td>gIoG2SAL99</td>\n",
       "      <td>widow</td>\n",
       "      <td>Other</td>\n",
       "      <td>lessThanprimary</td>\n",
       "      <td>18.914196</td>\n",
       "      <td>-70.746286</td>\n",
       "      <td>NaN</td>\n",
       "      <td>NaN</td>\n",
       "      <td>80.0</td>\n",
       "      <td>male</td>\n",
       "      <td>...</td>\n",
       "      <td>poor</td>\n",
       "      <td>Other Hospital</td>\n",
       "      <td>Dentist</td>\n",
       "      <td>Roads</td>\n",
       "      <td>1-2</td>\n",
       "      <td>other</td>\n",
       "      <td>5</td>\n",
       "      <td>0</td>\n",
       "      <td>owned</td>\n",
       "      <td>NaN</td>\n",
       "    </tr>\n",
       "    <tr>\n",
       "      <th>4</th>\n",
       "      <td>gIoG2SAL99</td>\n",
       "      <td>widow</td>\n",
       "      <td>Other</td>\n",
       "      <td>lessThanprimary</td>\n",
       "      <td>18.914196</td>\n",
       "      <td>-70.746286</td>\n",
       "      <td>NaN</td>\n",
       "      <td>NaN</td>\n",
       "      <td>80.0</td>\n",
       "      <td>male</td>\n",
       "      <td>...</td>\n",
       "      <td>poor</td>\n",
       "      <td>Other Hospital</td>\n",
       "      <td>Dentist</td>\n",
       "      <td>Roads</td>\n",
       "      <td>1-2</td>\n",
       "      <td>other</td>\n",
       "      <td>5</td>\n",
       "      <td>0</td>\n",
       "      <td>owned</td>\n",
       "      <td>NaN</td>\n",
       "    </tr>\n",
       "  </tbody>\n",
       "</table>\n",
       "<p>5 rows × 26 columns</p>\n",
       "</div>"
      ],
      "text/plain": [
       "     objectId marriageStatus   occupation   educationLevel   latitude  \\\n",
       "0  lLkC5HGPOC          widow  Ama de casa  lessThanprimary  18.914416   \n",
       "1  lLkC5HGPOC          widow  Ama de casa  lessThanprimary  18.914416   \n",
       "2  gIoG2SAL99          widow        Other  lessThanprimary  18.914196   \n",
       "3  gIoG2SAL99          widow        Other  lessThanprimary  18.914196   \n",
       "4  gIoG2SAL99          widow        Other  lessThanprimary  18.914196   \n",
       "\n",
       "   longitude city province   age     sex  ...  conditionoRoofinyourhouse  \\\n",
       "0 -70.745642  NaN      NaN  67.0  female  ...                    working   \n",
       "1 -70.745642  NaN      NaN  67.0  female  ...                    working   \n",
       "2 -70.746286  NaN      NaN  80.0    male  ...                       poor   \n",
       "3 -70.746286  NaN      NaN  80.0    male  ...                       poor   \n",
       "4 -70.746286  NaN      NaN  80.0    male  ...                       poor   \n",
       "\n",
       "  medicalproblemswheredoyougo dentalproblemswheredoyougo  \\\n",
       "0              Other Hospital             Other Hospital   \n",
       "1              Other Hospital             Other Hospital   \n",
       "2              Other Hospital                    Dentist   \n",
       "3              Other Hospital                    Dentist   \n",
       "4              Other Hospital                    Dentist   \n",
       "\n",
       "  biggestproblemofcommunity timesperweektrashcollected  \\\n",
       "0                     Roads                        1-2   \n",
       "1                     Roads                        1-2   \n",
       "2                     Roads                        1-2   \n",
       "3                     Roads                        1-2   \n",
       "4                     Roads                        1-2   \n",
       "\n",
       "  wheretrashleftbetweenpickups numberofIndividualsLivingintheHouse  \\\n",
       "0                        other                                   1   \n",
       "1                        other                                   1   \n",
       "2                        other                                   5   \n",
       "3                        other                                   5   \n",
       "4                        other                                   5   \n",
       "\n",
       "  numberofChildrenLivinginHouseUndertheAgeof5 houseownership bathroomAccess  \n",
       "0                                           0         rented            NaN  \n",
       "1                                           0         rented            NaN  \n",
       "2                                           0          owned            NaN  \n",
       "3                                           0          owned            NaN  \n",
       "4                                           0          owned            NaN  \n",
       "\n",
       "[5 rows x 26 columns]"
      ]
     },
     "execution_count": 66,
     "metadata": {},
     "output_type": "execute_result"
    }
   ],
   "source": [
    "survey_environ.head()"
   ]
  },
  {
   "cell_type": "code",
   "execution_count": 67,
   "metadata": {},
   "outputs": [
    {
     "data": {
      "text/plain": [
       "(7489, 26)"
      ]
     },
     "execution_count": 67,
     "metadata": {},
     "output_type": "execute_result"
    }
   ],
   "source": [
    "survey_environ.shape"
   ]
  },
  {
   "cell_type": "code",
   "execution_count": null,
   "metadata": {},
   "outputs": [],
   "source": []
  }
 ],
 "metadata": {
  "kernelspec": {
   "display_name": "Python 3",
   "language": "python",
   "name": "python3"
  },
  "language_info": {
   "codemirror_mode": {
    "name": "ipython",
    "version": 3
   },
   "file_extension": ".py",
   "mimetype": "text/x-python",
   "name": "python",
   "nbconvert_exporter": "python",
   "pygments_lexer": "ipython3",
   "version": "3.8.5"
  }
 },
 "nbformat": 4,
 "nbformat_minor": 4
}
