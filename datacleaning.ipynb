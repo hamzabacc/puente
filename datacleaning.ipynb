{
 "cells": [
  {
   "cell_type": "code",
   "execution_count": 1,
   "metadata": {},
   "outputs": [],
   "source": [
    "import pandas as pd\n",
    "import numpy as np\n",
    "import json\n",
    "import matplotlib.pyplot as plt\n",
    "import seaborn as sns\n",
    "sns.set()"
   ]
  },
  {
   "cell_type": "markdown",
   "metadata": {},
   "source": [
    "### Function to convert JSON files to DataFrame structure"
   ]
  },
  {
   "cell_type": "code",
   "execution_count": 2,
   "metadata": {},
   "outputs": [],
   "source": [
    "def format_json(data):\n",
    "    init = pd.DataFrame.from_dict(data).loc[0][0]\n",
    "    for obj in init:\n",
    "        if type(init[obj])!=list or len(init[obj])!=1:\n",
    "            init[obj] = [init[obj]]\n",
    "    df = pd.DataFrame.from_dict(init)\n",
    "    for i in range(1,pd.DataFrame.from_dict(data).shape[0]):\n",
    "        curr = pd.DataFrame.from_dict(data).loc[i][0]\n",
    "        for obj in curr:\n",
    "            if type(curr[obj])!=list or len(curr[obj])!=1:\n",
    "                curr[obj] = [curr[obj]]\n",
    "        df_curr = pd.DataFrame.from_dict(curr)\n",
    "        df = df.append(df_curr)\n",
    "    return df"
   ]
  },
  {
   "cell_type": "markdown",
   "metadata": {},
   "source": [
    "# SURVEY DATA"
   ]
  },
  {
   "cell_type": "markdown",
   "metadata": {},
   "source": [
    "### Open JSON file, convert to DataFrame"
   ]
  },
  {
   "cell_type": "code",
   "execution_count": 3,
   "metadata": {},
   "outputs": [],
   "source": [
    "with open(\"SurveyData.json\", \"r\") as read_file:\n",
    "    data = json.load(read_file)\n",
    "df = format_json(data)"
   ]
  },
  {
   "cell_type": "markdown",
   "metadata": {},
   "source": [
    "### Drop columns missing 80%+ of data"
   ]
  },
  {
   "cell_type": "code",
   "execution_count": 4,
   "metadata": {},
   "outputs": [
    {
     "name": "stdout",
     "output_type": "stream",
     "text": [
      "Dropped column \"familyhistory\"\n",
      "Dropped column \"otherOrganizationsYouKnow\"\n",
      "Dropped column \"numberofIndividualsLivingintheHouse\"\n",
      "Dropped column \"numberofChildrenLivingintheHouse\"\n",
      "Dropped column \"numberofChildrenLivinginHouseUndertheAgeof5\"\n",
      "Dropped column \"yearsLivedinthecommunity\"\n",
      "Dropped column \"memberofthefollowingorganizations\"\n",
      "Dropped column \"waterAccess\"\n",
      "Dropped column \"trashDisposalLocation\"\n",
      "Dropped column \"dayMostConvenient\"\n",
      "Dropped column \"hourMostConvenient\"\n",
      "Dropped column \"yearsLivedinThisHouse\"\n",
      "Dropped column \"insuranceNumber\"\n",
      "Dropped column \"clinicProvider\"\n",
      "Dropped column \"medicalIllnesses2\"\n",
      "Dropped column \"whenDiagnosed2\"\n",
      "Dropped column \"whatDoctorDoyousee2\"\n",
      "Dropped column \"didDoctorRecommend2\"\n",
      "Dropped column \"treatment2\"\n",
      "Dropped column \"DentalAssessmentandEvaluation\"\n",
      "Dropped column \"relationship_id\"\n",
      "Dropped column \"picture\"\n",
      "Dropped column \"signature\"\n",
      "Remaining columns:\n"
     ]
    },
    {
     "data": {
      "text/plain": [
       "Index(['objectId', 'dob', 'sex', 'marriageStatus', 'occupation',\n",
       "       'educationLevel', 'telephoneNumber', 'latitude', 'longitude',\n",
       "       'surveyingUser', 'surveyingOrganization', 'createdAt', 'updatedAt',\n",
       "       'location', 'communityname', 'city', 'province', 'insuranceProvider',\n",
       "       'relationship'],\n",
       "      dtype='object')"
      ]
     },
     "execution_count": 4,
     "metadata": {},
     "output_type": "execute_result"
    }
   ],
   "source": [
    "survey_drop = list(df.isnull().sum()[df.isnull().sum(axis=0)>0.8*df.shape[0]].index)\n",
    "survey = df.copy()\n",
    "for col in survey_drop:\n",
    "    print(\"Dropped column \\\"\" + col +\"\\\"\")\n",
    "survey = survey.drop(survey_drop,axis=1)\n",
    "print(\"Remaining columns:\")\n",
    "survey.columns"
   ]
  },
  {
   "cell_type": "markdown",
   "metadata": {},
   "source": [
    "### Drop other non-valuable data"
   ]
  },
  {
   "cell_type": "code",
   "execution_count": 5,
   "metadata": {},
   "outputs": [],
   "source": [
    "survey = survey.drop(['location', 'relationship','surveyingUser','surveyingOrganization','telephoneNumber','communityname'], axis = 1)"
   ]
  },
  {
   "cell_type": "markdown",
   "metadata": {},
   "source": [
    "  \n",
    " \n",
    "## Cleaning each data column"
   ]
  },
  {
   "cell_type": "markdown",
   "metadata": {},
   "source": [
    "#### Date of Birth"
   ]
  },
  {
   "cell_type": "code",
   "execution_count": 6,
   "metadata": {},
   "outputs": [],
   "source": [
    "dobs = []\n",
    "for date in survey.dob:\n",
    "    if(date!=None):\n",
    "        if '-' in str(date):\n",
    "            temp = str(date).split('-')\n",
    "            new = temp[1] + \"/\" + temp[2] + \"/\" + temp[0]\n",
    "            dobs.append(new)\n",
    "        elif '/' in str(date): \n",
    "            temp = str(date).split('/')\n",
    "            new = temp[1] + \"/\" + temp[0] + \"/\" + temp[2]\n",
    "            dobs.append(new)\n",
    "        else:\n",
    "            dobs.append(date)\n",
    "    else:\n",
    "        dobs.append(None)\n",
    "survey.dob = dobs"
   ]
  },
  {
   "cell_type": "markdown",
   "metadata": {},
   "source": [
    "#### Male/Female"
   ]
  },
  {
   "cell_type": "code",
   "execution_count": 7,
   "metadata": {},
   "outputs": [],
   "source": [
    "survey['M'] = (survey['sex']=='Male').astype(int)\n",
    "survey['F'] = (survey['sex']=='Female').astype(int)\n",
    "survey = survey.drop(\"sex\",axis=1)"
   ]
  },
  {
   "cell_type": "markdown",
   "metadata": {},
   "source": [
    "#### Education Level"
   ]
  },
  {
   "cell_type": "code",
   "execution_count": 8,
   "metadata": {},
   "outputs": [],
   "source": [
    "survey = survey.replace(\"lessThanprimary\\n\",\"lessThanprimary\")"
   ]
  },
  {
   "cell_type": "markdown",
   "metadata": {},
   "source": [
    "#### Occupation"
   ]
  },
  {
   "cell_type": "code",
   "execution_count": 9,
   "metadata": {},
   "outputs": [],
   "source": [
    "survey = survey.replace(\"Ama de casa \",\"Ama de casa\")\n",
    "survey = survey.replace(\"Ama d casa\",\"Ama de casa\")\n",
    "survey = survey.replace(\"Ama d casa \",\"Ama de casa\")\n",
    "survey = survey.replace(\"ama de casa \",\"Ama de casa\")\n",
    "survey = survey.replace(\"ama de casa\",\"Ama de casa\")\n",
    "survey = survey.replace(\"Ama de Casa \",\"Ama de casa\")\n",
    "survey = survey.replace(\"Ama de Casa\",\"Ama de casa\")\n",
    "\n",
    "survey = survey.replace(\"Estudiante \",\"Estudiante\")\n",
    "survey = survey.replace(\"Student\",\"Estudiante\")\n",
    "survey = survey.replace(\"Estudia\",\"Estudiante\")\n",
    "\n",
    "survey = survey.replace(\"Ninguna \",\"Ninguna\")\n",
    "\n",
    "survey = survey.replace(\"Agricultura\",\"Agriculture\")\n",
    "survey = survey.replace(\"Agricultura \",\"Agriculture\")\n",
    "survey = survey.replace(\"Agricultor\",\"Agriculture\")\n",
    "\n",
    "survey = survey.replace(\"Chiripero \",\"Chiripero\")\n",
    "survey = survey.replace(\"No trabaja \",\"No trabaja\")\n",
    "survey = survey.replace(\"Colmadera\",\"Colmadero\")\n",
    "survey = survey.replace(\"Jornalero \",\"Jornalero\")\n",
    "survey = survey.replace(\"Menor \",\"Menor\")\n",
    "survey = survey.replace(\"Comerciante \",\"Comerciante\")"
   ]
  },
  {
   "cell_type": "markdown",
   "metadata": {},
   "source": [
    "##### Due to the very high variation in occupation, job titles are filtered down to match the 7 most freqeent job titles, otherwise they're labeled as 'other'"
   ]
  },
  {
   "cell_type": "code",
   "execution_count": 10,
   "metadata": {},
   "outputs": [],
   "source": [
    "work = []\n",
    "for job in survey['occupation']:\n",
    "    if job not in list(survey['occupation'].value_counts()[:7].index):\n",
    "        work.append(\"Other\")\n",
    "    else: work.append(job)\n",
    "survey['occupation'] = work"
   ]
  },
  {
   "cell_type": "markdown",
   "metadata": {},
   "source": [
    "#### Marriage Status"
   ]
  },
  {
   "cell_type": "code",
   "execution_count": 11,
   "metadata": {},
   "outputs": [],
   "source": [
    "survey = survey.replace(\"widow\\n\",\"widow\")"
   ]
  },
  {
   "cell_type": "markdown",
   "metadata": {},
   "source": [
    "#### Province"
   ]
  },
  {
   "cell_type": "code",
   "execution_count": 12,
   "metadata": {},
   "outputs": [],
   "source": [
    "prov = []\n",
    "for p in survey['province']:\n",
    "    p = str(p)\n",
    "    if 'sp' in p or 'Sp' in p or 'SP' in p or 'edro' in p or 'aco' in p:\n",
    "        prov.append(\"San Pedro de Macoris\")\n",
    "    elif 'vega' in p or 'Vega' in p or (('ga' in p or 've') and ('La' in p or 'la' in p)):\n",
    "        prov.append(\"La Vega\")\n",
    "    elif 'onst' in p or \"tanza\" in p:\n",
    "        prov.append(\"Constanza\")\n",
    "    elif 'onsuel' in p:\n",
    "        prov.append(\"Consuelo\")\n",
    "    elif 'antiag' in p:\n",
    "        prov.append(\"Santiago\")\n",
    "    else: prov.append(\"None\")\n",
    "pd.Series(prov).value_counts()\n",
    "survey['province'] = prov"
   ]
  },
  {
   "cell_type": "markdown",
   "metadata": {},
   "source": [
    "#### City"
   ]
  },
  {
   "cell_type": "code",
   "execution_count": 13,
   "metadata": {},
   "outputs": [],
   "source": [
    "city = []\n",
    "survey['city'].value_counts()\n",
    "for c in survey['city']:\n",
    "    c = str(c)\n",
    "    if 'pedro' in c or 'acor' in c or 'edro' in c or 'ro de' in c \\\n",
    "        or 'e mac' in c or 'pm' in c:\n",
    "        city.append('San Pedro de Macoris')\n",
    "    elif 'onst' in c or \"tanza\" in c:\n",
    "        city.append(\"Constanza\")\n",
    "    elif 'antia' in c: \n",
    "        city.append(\"Santiago\")\n",
    "    elif 'vega' in c:\n",
    "        city.append(\"La Vega\")\n",
    "    elif 'ireo' in c:\n",
    "        city.append(\"Tireo\")\n",
    "    else: city.append(\"None\")\n",
    "pd.Series(city).value_counts()\n",
    "survey['city'] = city"
   ]
  },
  {
   "cell_type": "markdown",
   "metadata": {},
   "source": [
    "#### Insurance Provider"
   ]
  },
  {
   "cell_type": "code",
   "execution_count": 14,
   "metadata": {},
   "outputs": [],
   "source": [
    "ins = []\n",
    "for i in survey['insuranceProvider']:\n",
    "    i = str(i)\n",
    "    if 'Sen' in i or 'sen' in i or 'SeN' in i or 'SEN' in i \\\n",
    "    or 'CeN' in i or 'cen' in i or 'CEN' in i or 'Cen' in i or 'asa' in i:\n",
    "        ins.append('Senasa')\n",
    "    elif 'hum' in i or 'ano' in i or 'ARS' in i:\n",
    "        ins.append('ARS Humano')\n",
    "    elif 'No' in i or 'nan' in i:\n",
    "        ins.append(\"None\")\n",
    "    else:\n",
    "        ins.append(\"Other\")\n",
    "pd.Series(ins).value_counts()[:50]\n",
    "survey['insuranceProvider'] = ins"
   ]
  },
  {
   "cell_type": "markdown",
   "metadata": {},
   "source": [
    "#### Date of Birth"
   ]
  },
  {
   "cell_type": "code",
   "execution_count": 15,
   "metadata": {},
   "outputs": [],
   "source": [
    "j = 0\n",
    "yrs = []\n",
    "for i in survey['dob']:\n",
    "    try:\n",
    "        yr = int(i.split('/')[2])\n",
    "        if yr>2020 or yr<1915:\n",
    "            yrs.append(None)\n",
    "        else:\n",
    "            yrs.append(2020-yr)\n",
    "    except:\n",
    "        yrs.append(None)\n",
    "pd.Series(yrs).value_counts().sum()\n",
    "survey['age'] = yrs"
   ]
  },
  {
   "cell_type": "markdown",
   "metadata": {},
   "source": [
    "### Reindex and send to CSV file"
   ]
  },
  {
   "cell_type": "code",
   "execution_count": 16,
   "metadata": {},
   "outputs": [],
   "source": [
    "survey = survey.set_index(\"objectId\")"
   ]
  },
  {
   "cell_type": "code",
   "execution_count": 17,
   "metadata": {},
   "outputs": [],
   "source": [
    "survey.to_csv('survey.csv')"
   ]
  },
  {
   "cell_type": "code",
   "execution_count": null,
   "metadata": {},
   "outputs": [],
   "source": []
  },
  {
   "cell_type": "code",
   "execution_count": null,
   "metadata": {},
   "outputs": [],
   "source": []
  },
  {
   "cell_type": "code",
   "execution_count": null,
   "metadata": {},
   "outputs": [],
   "source": []
  },
  {
   "cell_type": "code",
   "execution_count": null,
   "metadata": {},
   "outputs": [],
   "source": []
  },
  {
   "cell_type": "code",
   "execution_count": null,
   "metadata": {},
   "outputs": [],
   "source": []
  },
  {
   "cell_type": "code",
   "execution_count": null,
   "metadata": {},
   "outputs": [],
   "source": []
  },
  {
   "cell_type": "markdown",
   "metadata": {},
   "source": [
    "# VITALS DATA"
   ]
  },
  {
   "cell_type": "markdown",
   "metadata": {},
   "source": [
    "### Open JSON file, convert to DataFrame"
   ]
  },
  {
   "cell_type": "code",
   "execution_count": 19,
   "metadata": {},
   "outputs": [],
   "source": [
    "with open(\"Vitals.json\", \"r\") as read_file:\n",
    "    data = json.load(read_file)\n",
    "df = format_json(data)"
   ]
  },
  {
   "cell_type": "markdown",
   "metadata": {},
   "source": [
    "### Drop columns missing 80%+ of data"
   ]
  },
  {
   "cell_type": "code",
   "execution_count": 20,
   "metadata": {},
   "outputs": [
    {
     "name": "stdout",
     "output_type": "stream",
     "text": [
      "Dropped column \"height\"\n",
      "Dropped column \"bmi\"\n",
      "Dropped column \"temp\"\n",
      "Dropped column \"respRate\"\n",
      "Dropped column \"bloodOxygen\"\n",
      "Dropped column \"painLevels\"\n",
      "Dropped column \"hemoglobinLevels\"\n",
      "Remaining columns:\n"
     ]
    },
    {
     "data": {
      "text/plain": [
       "Index(['objectId', 'location', 'weight', 'pulse', 'bloodPressure',\n",
       "       'bloodSugar', 'client', 'createdAt', 'updatedAt'],\n",
       "      dtype='object')"
      ]
     },
     "execution_count": 20,
     "metadata": {},
     "output_type": "execute_result"
    }
   ],
   "source": [
    "vitals_drop = list(df.isnull().sum()[df.isnull().sum(axis=0)>0.8*df.shape[0]].index)\n",
    "vitals = df.copy()\n",
    "for col in vitals_drop:\n",
    "    print(\"Dropped column \\\"\" + col +\"\\\"\")\n",
    "vitals = vitals.drop(vitals_drop,axis=1)\n",
    "print(\"Remaining columns:\")\n",
    "vitals.columns"
   ]
  },
  {
   "cell_type": "markdown",
   "metadata": {},
   "source": [
    "### Drop other non-valuable data"
   ]
  },
  {
   "cell_type": "code",
   "execution_count": 21,
   "metadata": {},
   "outputs": [],
   "source": [
    "vitals = vitals.drop(['location', 'createdAt', 'updatedAt', 'client'], axis = 1)"
   ]
  },
  {
   "cell_type": "markdown",
   "metadata": {},
   "source": [
    "## Cleaning each data column"
   ]
  },
  {
   "cell_type": "markdown",
   "metadata": {},
   "source": [
    "#### Blood pressure\n",
    "##### Splitting into systolic (upper) and diastolic (lower)"
   ]
  },
  {
   "cell_type": "code",
   "execution_count": 22,
   "metadata": {},
   "outputs": [],
   "source": [
    "bloodPressureUpper = []\n",
    "bloodPressureLower = []\n",
    "i=0\n",
    "j=0\n",
    "k=0\n",
    "for bp in vitals['bloodPressure']:\n",
    "    if(bp!=None):\n",
    "        bp = str(bp)\n",
    "        bp = bp.split(\"/\")\n",
    "        #print(bp)\n",
    "        if(len(bp)>2):\n",
    "            bloodPressureUpper.append(None)\n",
    "            bloodPressureLower.append(None)\n",
    "            k+=1\n",
    "        else:\n",
    "            try:\n",
    "                upper, lower = int(bp[0]), int(bp[1])\n",
    "                i+=1\n",
    "            except:\n",
    "                upper = 0\n",
    "                lower = 0\n",
    "                j+=1\n",
    "            if upper==0:\n",
    "                bloodPressureUpper.append(None)\n",
    "            else:\n",
    "                bloodPressureUpper.append(upper)\n",
    "            if lower==0:\n",
    "                bloodPressureLower.append(None)\n",
    "            else:\n",
    "                bloodPressureLower.append(lower)\n",
    "    else:\n",
    "        bloodPressureUpper.append(None)\n",
    "        bloodPressureLower.append(None)\n",
    "        k+=1\n",
    "vitals['bpUpper'] = bloodPressureUpper\n",
    "vitals['bpLower'] = bloodPressureLower\n",
    "vitals.drop('bloodPressure', axis = 1, inplace = True)"
   ]
  },
  {
   "cell_type": "markdown",
   "metadata": {},
   "source": [
    "#### Pulse"
   ]
  },
  {
   "cell_type": "code",
   "execution_count": 23,
   "metadata": {},
   "outputs": [],
   "source": [
    "pulse = []\n",
    "for p in vitals['pulse']:\n",
    "    if p!=None:\n",
    "        try: \n",
    "            p = float(p)\n",
    "            if p>200:\n",
    "                p = None\n",
    "        except: \n",
    "            p = None\n",
    "    pulse.append(p)\n",
    "vitals['pulse'] = pulse"
   ]
  },
  {
   "cell_type": "markdown",
   "metadata": {},
   "source": [
    "#### Weight"
   ]
  },
  {
   "cell_type": "code",
   "execution_count": 24,
   "metadata": {},
   "outputs": [],
   "source": [
    "wt = []\n",
    "for w in vitals['weight']:\n",
    "    try:\n",
    "        wt.append(int(w))\n",
    "    except:\n",
    "        wt.append(None)\n",
    "vitals['weight'] = wt"
   ]
  },
  {
   "cell_type": "markdown",
   "metadata": {},
   "source": [
    "#### Blood Sugar"
   ]
  },
  {
   "cell_type": "code",
   "execution_count": 25,
   "metadata": {},
   "outputs": [],
   "source": [
    "bs = []\n",
    "for b in vitals['bloodSugar']:\n",
    "    try:\n",
    "        b = int(b)\n",
    "        if (b>300 or b<20):\n",
    "            bs.append(None)\n",
    "        else:\n",
    "            bs.append(b)\n",
    "    except:\n",
    "        bs.append(None)\n",
    "vitals['bloodSugar'] = bs"
   ]
  },
  {
   "cell_type": "markdown",
   "metadata": {},
   "source": [
    "### Reindex and send to CSV file"
   ]
  },
  {
   "cell_type": "code",
   "execution_count": 26,
   "metadata": {},
   "outputs": [],
   "source": [
    "vitals = vitals.set_index(\"objectId\")"
   ]
  },
  {
   "cell_type": "code",
   "execution_count": 27,
   "metadata": {},
   "outputs": [],
   "source": [
    "vitals.to_csv('vitals.csv')"
   ]
  },
  {
   "cell_type": "code",
   "execution_count": null,
   "metadata": {},
   "outputs": [],
   "source": []
  },
  {
   "cell_type": "code",
   "execution_count": null,
   "metadata": {},
   "outputs": [],
   "source": []
  },
  {
   "cell_type": "code",
   "execution_count": null,
   "metadata": {},
   "outputs": [],
   "source": []
  },
  {
   "cell_type": "code",
   "execution_count": null,
   "metadata": {},
   "outputs": [],
   "source": []
  },
  {
   "cell_type": "code",
   "execution_count": null,
   "metadata": {},
   "outputs": [],
   "source": []
  },
  {
   "cell_type": "code",
   "execution_count": null,
   "metadata": {},
   "outputs": [],
   "source": []
  },
  {
   "cell_type": "markdown",
   "metadata": {},
   "source": [
    "# ENVIRONMENTAL HISTORY DATA"
   ]
  },
  {
   "cell_type": "markdown",
   "metadata": {},
   "source": [
    "### Open JSON, convert to DataFrame"
   ]
  },
  {
   "cell_type": "code",
   "execution_count": 28,
   "metadata": {},
   "outputs": [],
   "source": [
    "with open(\"HistoryEnvironmentalHealth.json\", \"r\", encoding='utf8') as read_file:\n",
    "    data = json.load(read_file)\n",
    "df = format_json(data)"
   ]
  },
  {
   "cell_type": "markdown",
   "metadata": {},
   "source": [
    "### Drop columns missing 80%+ of data"
   ]
  },
  {
   "cell_type": "code",
   "execution_count": 29,
   "metadata": {},
   "outputs": [
    {
     "name": "stdout",
     "output_type": "stream",
     "text": [
      "Remaining columns:\n"
     ]
    },
    {
     "data": {
      "text/plain": [
       "Index(['objectId', 'location', 'yearsLivedinthecommunity',\n",
       "       'yearsLivedinThisHouse', 'waterAccess', 'typeofWaterdoyoudrink',\n",
       "       'latrineAccess', 'clinicAccess', 'conditionoFloorinyourhouse',\n",
       "       'conditionoRoofinyourhouse', 'medicalproblemswheredoyougo',\n",
       "       'dentalproblemswheredoyougo', 'biggestproblemofcommunity',\n",
       "       'timesperweektrashcollected', 'wheretrashleftbetweenpickups', 'client',\n",
       "       'createdAt', 'updatedAt', 'numberofIndividualsLivingintheHouse',\n",
       "       'numberofChildrenLivinginHouseUndertheAgeof5', 'houseownership',\n",
       "       'bathroomAccess', 'stoveType'],\n",
       "      dtype='object')"
      ]
     },
     "execution_count": 29,
     "metadata": {},
     "output_type": "execute_result"
    }
   ],
   "source": [
    "env_drop = list(df.isnull().sum()[df.isnull().sum(axis=0)>0.8*df.shape[0]].index)\n",
    "env = df.copy()\n",
    "for col in env_drop:\n",
    "    print(\"Dropped column \\\"\" + col +\"\\\"\")\n",
    "env = env.drop(env_drop,axis=1)\n",
    "print(\"Remaining columns:\")\n",
    "env.columns"
   ]
  },
  {
   "cell_type": "markdown",
   "metadata": {},
   "source": [
    "### Extract Object IDs"
   ]
  },
  {
   "cell_type": "code",
   "execution_count": 30,
   "metadata": {},
   "outputs": [],
   "source": [
    "pointers = []\n",
    "for h in env.client.values:\n",
    "    pointers.append(h['objectId'])\n",
    "env['objectId'] = pointers"
   ]
  },
  {
   "cell_type": "markdown",
   "metadata": {},
   "source": [
    "### Drop other non-valuable data"
   ]
  },
  {
   "cell_type": "code",
   "execution_count": 31,
   "metadata": {},
   "outputs": [],
   "source": [
    "env.drop([\"client\", \"createdAt\", \"updatedAt\"], inplace = True, axis = 1)"
   ]
  },
  {
   "cell_type": "markdown",
   "metadata": {},
   "source": [
    "## Cleaning each data column"
   ]
  },
  {
   "cell_type": "markdown",
   "metadata": {},
   "source": [
    "#### Extracting latitude and longitude from Location column"
   ]
  },
  {
   "cell_type": "code",
   "execution_count": 32,
   "metadata": {},
   "outputs": [],
   "source": [
    "lat = []\n",
    "lon = []\n",
    "for h in env.location.values:\n",
    "    lat.append(h['latitude'])\n",
    "    lon.append(h['longitude'])\n",
    "env['latitude'] = lat\n",
    "env['longitude'] = lon\n",
    "env = env.drop('location',axis=1)"
   ]
  },
  {
   "cell_type": "code",
   "execution_count": 33,
   "metadata": {},
   "outputs": [
    {
     "data": {
      "text/plain": [
       "Index(['objectId', 'yearsLivedinthecommunity', 'yearsLivedinThisHouse',\n",
       "       'waterAccess', 'typeofWaterdoyoudrink', 'latrineAccess', 'clinicAccess',\n",
       "       'conditionoFloorinyourhouse', 'conditionoRoofinyourhouse',\n",
       "       'medicalproblemswheredoyougo', 'dentalproblemswheredoyougo',\n",
       "       'biggestproblemofcommunity', 'timesperweektrashcollected',\n",
       "       'wheretrashleftbetweenpickups', 'numberofIndividualsLivingintheHouse',\n",
       "       'numberofChildrenLivinginHouseUndertheAgeof5', 'houseownership',\n",
       "       'bathroomAccess', 'stoveType', 'latitude', 'longitude'],\n",
       "      dtype='object')"
      ]
     },
     "execution_count": 33,
     "metadata": {},
     "output_type": "execute_result"
    }
   ],
   "source": [
    "env.columns"
   ]
  },
  {
   "cell_type": "markdown",
   "metadata": {},
   "source": [
    "#### Medical problems where do you go"
   ]
  },
  {
   "cell_type": "code",
   "execution_count": 34,
   "metadata": {},
   "outputs": [],
   "source": [
    "med_location = []\n",
    "for m in env['medicalproblemswheredoyougo']:\n",
    "    m = str(m).lower()\n",
    "    if 'musa' in m:\n",
    "        med_location.append(\"Al Musa Hospital\")\n",
    "    elif 'ramon' in m or 'santana' in m:\n",
    "        med_location.append(\"Ramon Santana Hospital\")\n",
    "    elif 'hospital' in m:\n",
    "        med_location.append(\"Other Hospital\")\n",
    "    elif 'clinic' in m:\n",
    "        med_location.append(\"Clinic\")\n",
    "    else:\n",
    "        med_location.append(\"Other\")\n",
    "env['medicalproblemswheredoyougo'] = med_location"
   ]
  },
  {
   "cell_type": "code",
   "execution_count": 35,
   "metadata": {},
   "outputs": [
    {
     "data": {
      "text/plain": [
       "Index(['objectId', 'yearsLivedinthecommunity', 'yearsLivedinThisHouse',\n",
       "       'waterAccess', 'typeofWaterdoyoudrink', 'latrineAccess', 'clinicAccess',\n",
       "       'conditionoFloorinyourhouse', 'conditionoRoofinyourhouse',\n",
       "       'medicalproblemswheredoyougo', 'dentalproblemswheredoyougo',\n",
       "       'biggestproblemofcommunity', 'timesperweektrashcollected',\n",
       "       'wheretrashleftbetweenpickups', 'numberofIndividualsLivingintheHouse',\n",
       "       'numberofChildrenLivinginHouseUndertheAgeof5', 'houseownership',\n",
       "       'bathroomAccess', 'stoveType', 'latitude', 'longitude'],\n",
       "      dtype='object')"
      ]
     },
     "execution_count": 35,
     "metadata": {},
     "output_type": "execute_result"
    }
   ],
   "source": [
    "env.columns"
   ]
  },
  {
   "cell_type": "markdown",
   "metadata": {},
   "source": [
    "#### Dental problems where do you go"
   ]
  },
  {
   "cell_type": "code",
   "execution_count": 36,
   "metadata": {},
   "outputs": [],
   "source": [
    "dent_location = []\n",
    "for m in env['dentalproblemswheredoyougo']:\n",
    "    m = str(m).lower()\n",
    "    if 'musa' in m:\n",
    "        dent_location.append(\"Al Musa Hospital\")\n",
    "    elif 'ramon' in m or 'santana' in m:\n",
    "        dent_location.append(\"Ramon Santana Hospital\")\n",
    "    elif 'hospital' in m:\n",
    "        dent_location.append(\"Other Hospital\")\n",
    "    elif 'dentist' in m or 'dentista' in m:\n",
    "        dent_location.append(\"Dentist\")\n",
    "    elif 'clinic' in m: \n",
    "        dent_location.append(\"Clinic\")\n",
    "    else:\n",
    "        dent_location.append(\"Other\")\n",
    "env['dentalproblemswheredoyougo'] = dent_location"
   ]
  },
  {
   "cell_type": "markdown",
   "metadata": {},
   "source": [
    "#### Biggest problem of community"
   ]
  },
  {
   "cell_type": "code",
   "execution_count": 37,
   "metadata": {},
   "outputs": [],
   "source": [
    "comm_prob = []\n",
    "for m in env['biggestproblemofcommunity']:\n",
    "    m = str(m).lower()\n",
    "    if 'agua' in m:\n",
    "        comm_prob.append(\"Water\")\n",
    "    elif 'basura' in m:\n",
    "        comm_prob.append(\"Garbage\")\n",
    "    elif 'salud' in m:\n",
    "        comm_prob.append(\"Health\")\n",
    "    elif 'calle' in m or 'carre' in m:\n",
    "        comm_prob.append(\"Roads\")\n",
    "    elif 'empleo' in m:\n",
    "        comm_prob.append(\"Unemployment\")\n",
    "    elif 'delinc' in m:\n",
    "        comm_prob.append(\"Delinquents\")\n",
    "    elif 'luz' in m:\n",
    "        comm_prob.append(\"Lighting\")\n",
    "    else:\n",
    "        comm_prob.append(\"Other\")\n",
    "env['biggestproblemofcommunity'] = comm_prob"
   ]
  },
  {
   "cell_type": "markdown",
   "metadata": {},
   "source": [
    "#### Times per week trash is collected"
   ]
  },
  {
   "cell_type": "code",
   "execution_count": 38,
   "metadata": {},
   "outputs": [],
   "source": [
    "trash = []\n",
    "for m in env['timesperweektrashcollected']:\n",
    "    m = str(m).lower()\n",
    "    try: \n",
    "        trash.append(int(m))\n",
    "    except: \n",
    "        if '1' in m or 'una' in m or 'semanal' in m:\n",
    "            trash.append(1)\n",
    "        elif '2' in m:\n",
    "            trash.append(2)\n",
    "        elif '3' in m:\n",
    "            trash.append(3)\n",
    "        elif '4' in m:\n",
    "            trash.append(4)\n",
    "        elif '5' in m:\n",
    "            trash.append(5)\n",
    "        elif '6' in m:\n",
    "            trash.append(6)\n",
    "        elif '7' in m:\n",
    "            trash.append(7)\n",
    "        elif 'no' in m or 'none' in m or 'nunca' in m:\n",
    "            trash.append(0)\n",
    "        elif 'guema' in m or 'quema' in m:\n",
    "            trash.append(\"Burned\")\n",
    "        else: \n",
    "            trash.append(\"Unknown\")\n",
    "env['timesperweektrashcollected'] = trash"
   ]
  },
  {
   "cell_type": "markdown",
   "metadata": {},
   "source": [
    "#### Where trash is left between pickups"
   ]
  },
  {
   "cell_type": "code",
   "execution_count": 39,
   "metadata": {},
   "outputs": [],
   "source": [
    "trash_left = []\n",
    "for t in env['wheretrashleftbetweenpickups']:\n",
    "    t = str(t).lower()\n",
    "    if 'calle' in t:\n",
    "        trash_left.append(\"street\")\n",
    "    elif 'frent' in t or 'fuer' in t or 'patio' in t:\n",
    "        trash_left.append(\"outside house\")\n",
    "    elif 'quem' in t or 'guem' in t: \n",
    "        trash_left.append(\"burned\")\n",
    "    elif 'cer' in t or 'sera' in t:\n",
    "        trash_left.append(\"sidewalk\")\n",
    "    else: \n",
    "        trash_left.append(\"other\")\n",
    "pd.Series(trash_left).value_counts()[:30]\n",
    "env['wheretrashleftbetweenpickups'] = trash_left"
   ]
  },
  {
   "cell_type": "code",
   "execution_count": 40,
   "metadata": {},
   "outputs": [
    {
     "data": {
      "text/plain": [
       "0    Psto9poSCx\n",
       "0    y6DJO1kLFl\n",
       "0    sdPbSYrGCW\n",
       "0    GiArohoFUo\n",
       "0    rnNw8AxEix\n",
       "        ...    \n",
       "0    uKN9cHxFDl\n",
       "0    pmE94lhtoq\n",
       "0    Tn1ljw7wVy\n",
       "0    Tn1ljw7wVy\n",
       "0    QpmL0Z6uFm\n",
       "Name: objectId, Length: 7546, dtype: object"
      ]
     },
     "execution_count": 40,
     "metadata": {},
     "output_type": "execute_result"
    }
   ],
   "source": [
    "env['objectId']"
   ]
  },
  {
   "cell_type": "markdown",
   "metadata": {},
   "source": [
    "#### Number of individuals living in the house"
   ]
  },
  {
   "cell_type": "code",
   "execution_count": 41,
   "metadata": {},
   "outputs": [],
   "source": [
    "household=[]\n",
    "for n in env['numberofIndividualsLivingintheHouse']:\n",
    "    n = str(n).lower()\n",
    "    try:\n",
    "        household.append(int(n))\n",
    "    except:\n",
    "        try: \n",
    "            household.append(int(n[:2]))\n",
    "        except:\n",
    "            try:\n",
    "                household.append(int(n[:1]))\n",
    "            except:\n",
    "                if 'una' in n or 'uno' in n:\n",
    "                    household.append(1)\n",
    "                elif 'dos' in n:\n",
    "                    household.append(2)\n",
    "                elif 'tres' in n:\n",
    "                    household.append(3)\n",
    "                elif 'cuatro' in n:\n",
    "                    household.append(4)\n",
    "                elif 'nan' in n or 'none' in n:\n",
    "                    household.append(4) #manually calculated median\n",
    "                else: \n",
    "                    household.append(4) #manually calculated median\n",
    "env['numberofIndividualsLivingintheHouse'] = household"
   ]
  },
  {
   "cell_type": "markdown",
   "metadata": {},
   "source": [
    "#### Number of children living in the house under the age of 5"
   ]
  },
  {
   "cell_type": "code",
   "execution_count": 42,
   "metadata": {},
   "outputs": [],
   "source": [
    "kids = []\n",
    "for n in env['numberofChildrenLivinginHouseUndertheAgeof5']:\n",
    "    n = str(n).lower()\n",
    "    try:\n",
    "        kids.append(int(n))\n",
    "    except:\n",
    "        try: \n",
    "            kids.append(int(n[:2]))\n",
    "        except:\n",
    "            try:\n",
    "                kids.append(int(n[:1]))\n",
    "            except:\n",
    "                if 'una' in n or 'uno' in n:\n",
    "                    kids.append(1)\n",
    "                elif 'dos' in n:\n",
    "                    kids.append(2)\n",
    "                elif 'tres' in n:\n",
    "                    kids.append(3)\n",
    "                elif 'cuatro' in n:\n",
    "                    kids.append(4)\n",
    "                elif 'nan' in n or 'none' in n:\n",
    "                    kids.append(0)\n",
    "                else: \n",
    "                    kids.append(0)\n",
    "pd.Series(kids).value_counts()\n",
    "env['numberofChildrenLivinginHouseUndertheAgeof5'] = kids"
   ]
  },
  {
   "cell_type": "markdown",
   "metadata": {},
   "source": [
    "### Reindex and send to CSV file"
   ]
  },
  {
   "cell_type": "code",
   "execution_count": 43,
   "metadata": {},
   "outputs": [],
   "source": [
    "env = env.set_index(\"objectId\")"
   ]
  },
  {
   "cell_type": "code",
   "execution_count": 44,
   "metadata": {},
   "outputs": [],
   "source": [
    "env.to_csv(\"history_environment.csv\")"
   ]
  },
  {
   "cell_type": "code",
   "execution_count": null,
   "metadata": {},
   "outputs": [],
   "source": []
  },
  {
   "cell_type": "code",
   "execution_count": null,
   "metadata": {},
   "outputs": [],
   "source": []
  },
  {
   "cell_type": "code",
   "execution_count": null,
   "metadata": {},
   "outputs": [],
   "source": []
  },
  {
   "cell_type": "code",
   "execution_count": null,
   "metadata": {},
   "outputs": [],
   "source": []
  },
  {
   "cell_type": "code",
   "execution_count": null,
   "metadata": {},
   "outputs": [],
   "source": []
  },
  {
   "cell_type": "code",
   "execution_count": null,
   "metadata": {},
   "outputs": [],
   "source": []
  },
  {
   "cell_type": "code",
   "execution_count": null,
   "metadata": {},
   "outputs": [],
   "source": []
  },
  {
   "cell_type": "code",
   "execution_count": null,
   "metadata": {},
   "outputs": [],
   "source": []
  },
  {
   "cell_type": "markdown",
   "metadata": {},
   "source": [
    "# MEDICAL EVALUATION DATA"
   ]
  },
  {
   "cell_type": "markdown",
   "metadata": {},
   "source": [
    "### Open JSON, convert to DataFrame"
   ]
  },
  {
   "cell_type": "code",
   "execution_count": 45,
   "metadata": {},
   "outputs": [],
   "source": [
    "with open(\"EvaluationMedical.json\", \"r\", encoding='utf8') as read_file:\n",
    "    data = json.load(read_file)\n",
    "df = format_json(data)"
   ]
  },
  {
   "cell_type": "markdown",
   "metadata": {},
   "source": [
    "### Drop columns missing 80%+ of data"
   ]
  },
  {
   "cell_type": "code",
   "execution_count": 46,
   "metadata": {},
   "outputs": [
    {
     "name": "stdout",
     "output_type": "stream",
     "text": [
      "Dropped column \"abnormal_bleeding\"\n",
      "Dropped column \"difficulty_breathing\"\n",
      "Dropped column \"mental_issues\"\n",
      "Dropped column \"description\"\n",
      "Dropped column \"diagnosis\"\n",
      "Dropped column \"suggested_treatment\"\n",
      "Dropped column \"received_treatment\"\n",
      "Dropped column \"needsAssessmentandEvaluation\"\n",
      "Dropped column \"chronic_condition_hypertension\"\n",
      "Dropped column \"chronic_condition_diabetes\"\n",
      "Dropped column \"chronic_condition_other\"\n",
      "Dropped column \"pain\"\n",
      "Dropped column \"AssessmentandEvaluation_Surgical_Guess\"\n",
      "Remaining columns:\n"
     ]
    },
    {
     "data": {
      "text/plain": [
       "Index(['objectId', 'location', 'AssessmentandEvaluation', 'planOfAction',\n",
       "       'notes', 'surveyingUser', 'surveyingOrganization', 'client',\n",
       "       'createdAt', 'updatedAt', 'duration', 'seen_doctor',\n",
       "       'received_treatment_description', 'received_treatment_notes',\n",
       "       'part_of_body', 'trauma_induced', 'condition_progression',\n",
       "       'AssessmentandEvaluation_Surgical', 'immediate_follow_up',\n",
       "       'part_of_body_description'],\n",
       "      dtype='object')"
      ]
     },
     "execution_count": 46,
     "metadata": {},
     "output_type": "execute_result"
    }
   ],
   "source": [
    "med_drop = list(df.isnull().sum()[df.isnull().sum(axis=0)>0.8*df.shape[0]].index)\n",
    "med = df.copy()\n",
    "for col in med_drop:\n",
    "    print(\"Dropped column \\\"\" + col +\"\\\"\")\n",
    "med = med.drop(med_drop,axis=1)\n",
    "print(\"Remaining columns:\")\n",
    "med.columns"
   ]
  },
  {
   "cell_type": "markdown",
   "metadata": {},
   "source": [
    "### Extract Object IDs"
   ]
  },
  {
   "cell_type": "code",
   "execution_count": 47,
   "metadata": {},
   "outputs": [],
   "source": [
    "client = []\n",
    "for c in med['client']:\n",
    "    client.append(c['objectId'])\n",
    "med['objectId'] = client"
   ]
  },
  {
   "cell_type": "markdown",
   "metadata": {},
   "source": [
    "### Drop other non-valuable data"
   ]
  },
  {
   "cell_type": "code",
   "execution_count": 48,
   "metadata": {},
   "outputs": [],
   "source": [
    "med = med.drop([\"client\", \"createdAt\", \"updatedAt\", \"notes\", \"surveyingUser\", \"surveyingOrganization\", \n",
    "                \"received_treatment_notes\", \"part_of_body_description\"], axis = 1)"
   ]
  },
  {
   "cell_type": "markdown",
   "metadata": {},
   "source": [
    "## Cleaning each data column"
   ]
  },
  {
   "cell_type": "markdown",
   "metadata": {},
   "source": [
    "#### Extracting latitude and longitude from Location clumn"
   ]
  },
  {
   "cell_type": "code",
   "execution_count": 49,
   "metadata": {},
   "outputs": [],
   "source": [
    "lat = []\n",
    "lon = []\n",
    "for h in med.location.values:\n",
    "    lat.append(h['latitude'])\n",
    "    lon.append(h['longitude'])\n",
    "med['lat'] = lat\n",
    "med['lon'] = lon\n",
    "med = med.drop('location', axis = 1)"
   ]
  },
  {
   "cell_type": "markdown",
   "metadata": {},
   "source": [
    "#### Assessment and evaluation"
   ]
  },
  {
   "cell_type": "code",
   "execution_count": 50,
   "metadata": {},
   "outputs": [],
   "source": [
    "medeval = []\n",
    "for m in med['AssessmentandEvaluation']:\n",
    "    try:\n",
    "        if 'No' in m:\n",
    "            medeval.append(\"No\")\n",
    "        else: medeval.append(\"Yes\")\n",
    "    except:\n",
    "        medeval.append(\"No\")\n",
    "med['AssessmentandEvaluation'] = medeval"
   ]
  },
  {
   "cell_type": "markdown",
   "metadata": {},
   "source": [
    "#### Plan of action"
   ]
  },
  {
   "cell_type": "code",
   "execution_count": 51,
   "metadata": {},
   "outputs": [],
   "source": [
    "poa = []\n",
    "for p in med['planOfAction']:\n",
    "    p = str(p).lower()\n",
    "    if 'orto' in p:\n",
    "        poa.append(\"orthopedics\")\n",
    "    elif ('general' in p  or 'genral' in p) and 'med' in p:\n",
    "        poa.append(\"general medicine\")\n",
    "    elif 'cardio' in p:\n",
    "        poa.append(\"cardiology\")\n",
    "    elif ('general' in p or 'genral' in p) and 'cirug' in p:\n",
    "        poa.append(\"general surgery\")\n",
    "    elif 'urol' in p:\n",
    "        poa.append(\"urology\")\n",
    "    elif 'neur' in p:\n",
    "        poa.append(\"neurology\")\n",
    "    elif 'derma' in p:\n",
    "        poa.append(\"dermatology\")\n",
    "    elif 'ginec' in p:\n",
    "        poa.append(\"gynecology\")\n",
    "    elif 'ofta' in p or 'opta' in p:\n",
    "        poa.append(\"ophthalmology\")\n",
    "    elif 'otor' in p:\n",
    "        poa.append(\"laryngology\")\n",
    "    elif 'gastro' in p:\n",
    "        poa.append(\"gastroenterology\")\n",
    "    elif 'pedia' in p:\n",
    "        poa.append(\"pediatrics\")\n",
    "    elif ('no' in p and 'neces' in p) or 'none' in p:\n",
    "        poa.append(\"none\")\n",
    "    else: poa.append(\"other\")\n",
    "med['planOfAction'] = poa"
   ]
  },
  {
   "cell_type": "markdown",
   "metadata": {},
   "source": [
    "#### Duration since last seen doctor"
   ]
  },
  {
   "cell_type": "code",
   "execution_count": 52,
   "metadata": {},
   "outputs": [],
   "source": [
    "med['duration'] = med['duration'].replace('Bdjajbd',None)"
   ]
  },
  {
   "cell_type": "markdown",
   "metadata": {},
   "source": [
    "#### Part of body"
   ]
  },
  {
   "cell_type": "code",
   "execution_count": 53,
   "metadata": {},
   "outputs": [],
   "source": [
    "med['part_of_body'] = med['part_of_body'].replace(\"\",None)"
   ]
  },
  {
   "cell_type": "markdown",
   "metadata": {},
   "source": [
    "### Reindex and send to CSV file"
   ]
  },
  {
   "cell_type": "code",
   "execution_count": 54,
   "metadata": {},
   "outputs": [],
   "source": [
    "med = med.set_index(\"objectId\")"
   ]
  },
  {
   "cell_type": "code",
   "execution_count": 55,
   "metadata": {},
   "outputs": [],
   "source": [
    "med.to_csv(\"evaluation_medical.csv\")"
   ]
  },
  {
   "cell_type": "code",
   "execution_count": null,
   "metadata": {},
   "outputs": [],
   "source": []
  },
  {
   "cell_type": "code",
   "execution_count": null,
   "metadata": {},
   "outputs": [],
   "source": []
  },
  {
   "cell_type": "code",
   "execution_count": null,
   "metadata": {},
   "outputs": [],
   "source": []
  }
 ],
 "metadata": {
  "kernelspec": {
   "display_name": "Python 3",
   "language": "python",
   "name": "python3"
  },
  "language_info": {
   "codemirror_mode": {
    "name": "ipython",
    "version": 3
   },
   "file_extension": ".py",
   "mimetype": "text/x-python",
   "name": "python",
   "nbconvert_exporter": "python",
   "pygments_lexer": "ipython3",
   "version": "3.8.5"
  }
 },
 "nbformat": 4,
 "nbformat_minor": 4
}
