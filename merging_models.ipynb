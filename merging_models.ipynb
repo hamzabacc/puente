{
 "cells": [
  {
   "cell_type": "code",
   "execution_count": 1,
   "metadata": {},
   "outputs": [],
   "source": [
    "import pandas as pd\n",
    "import numpy as np\n",
    "import seaborn as sns\n",
    "import matplotlib.pyplot as plt\n",
    "\n",
    "sns.set_palette(\"colorblind\")\n",
    "sns.set(font_scale = 1.1)\n",
    "sns.set_style(\"whitegrid\")"
   ]
  },
  {
   "cell_type": "code",
   "execution_count": 123,
   "metadata": {},
   "outputs": [],
   "source": [
    "survey_vitals = pd.read_csv(\"survey_vitals_clean.csv\").drop(columns = 'Unnamed: 0').drop_duplicates()\n",
    "eval_med = pd.read_csv(\"evaluation_medical_clean.csv\").drop(columns = 'Unnamed: 0').drop_duplicates()\n",
    "history_env = pd.read_csv(\"history_env_clean.csv\").drop(columns = 'Unnamed: 0').drop_duplicates()"
   ]
  },
  {
   "cell_type": "code",
   "execution_count": 78,
   "metadata": {},
   "outputs": [
    {
     "name": "stdout",
     "output_type": "stream",
     "text": [
      "(9458, 10)\n",
      "(8263, 7)\n",
      "(5472, 16)\n"
     ]
    }
   ],
   "source": [
    "print(survey_vitals.shape)\n",
    "print(eval_med.shape)\n",
    "print(history_env.shape)"
   ]
  },
  {
   "cell_type": "code",
   "execution_count": 75,
   "metadata": {},
   "outputs": [
    {
     "name": "stdout",
     "output_type": "stream",
     "text": [
      "(9458, 11)\n",
      "(9765, 7)\n",
      "(7546, 16)\n"
     ]
    }
   ],
   "source": [
    "print(survey_vitals.shape)\n",
    "print(eval_med.shape)\n",
    "print(history_env.shape)"
   ]
  },
  {
   "cell_type": "markdown",
   "metadata": {},
   "source": [
    "# Clustering based on geopoint data"
   ]
  },
  {
   "cell_type": "code",
   "execution_count": 124,
   "metadata": {},
   "outputs": [],
   "source": [
    "from sklearn.preprocessing import StandardScaler\n",
    "from sklearn.pipeline import Pipeline\n",
    "from sklearn.decomposition import PCA\n",
    "import matplotlib.pyplot as plt\n",
    "from sklearn.cluster import KMeans\n",
    "from sklearn.metrics import silhouette_samples, silhouette_score\n",
    "import matplotlib.cm as cm\n",
    "import seaborn as sns\n",
    "from sklearn.impute import SimpleImputer"
   ]
  },
  {
   "cell_type": "code",
   "execution_count": 125,
   "metadata": {},
   "outputs": [
    {
     "data": {
      "text/html": [
       "<div>\n",
       "<style scoped>\n",
       "    .dataframe tbody tr th:only-of-type {\n",
       "        vertical-align: middle;\n",
       "    }\n",
       "\n",
       "    .dataframe tbody tr th {\n",
       "        vertical-align: top;\n",
       "    }\n",
       "\n",
       "    .dataframe thead th {\n",
       "        text-align: right;\n",
       "    }\n",
       "</style>\n",
       "<table border=\"1\" class=\"dataframe\">\n",
       "  <thead>\n",
       "    <tr style=\"text-align: right;\">\n",
       "      <th></th>\n",
       "      <th>objectId</th>\n",
       "      <th>marriageStatus</th>\n",
       "      <th>occupation</th>\n",
       "      <th>educationLevel</th>\n",
       "      <th>latitude</th>\n",
       "      <th>longitude</th>\n",
       "      <th>city</th>\n",
       "      <th>province</th>\n",
       "      <th>age</th>\n",
       "      <th>sex</th>\n",
       "    </tr>\n",
       "  </thead>\n",
       "  <tbody>\n",
       "    <tr>\n",
       "      <th>0</th>\n",
       "      <td>XHCkKebF4a</td>\n",
       "      <td>single</td>\n",
       "      <td>Ama de casa</td>\n",
       "      <td>lessThanprimary</td>\n",
       "      <td>18.912087</td>\n",
       "      <td>-70.743801</td>\n",
       "      <td>NaN</td>\n",
       "      <td>NaN</td>\n",
       "      <td>34.0</td>\n",
       "      <td>female</td>\n",
       "    </tr>\n",
       "    <tr>\n",
       "      <th>1</th>\n",
       "      <td>ITCa1BkIiK</td>\n",
       "      <td>single</td>\n",
       "      <td>Ama de casa</td>\n",
       "      <td>someHighSchool</td>\n",
       "      <td>18.913084</td>\n",
       "      <td>-70.744104</td>\n",
       "      <td>NaN</td>\n",
       "      <td>NaN</td>\n",
       "      <td>52.0</td>\n",
       "      <td>female</td>\n",
       "    </tr>\n",
       "    <tr>\n",
       "      <th>2</th>\n",
       "      <td>AKjkw9A25J</td>\n",
       "      <td>single</td>\n",
       "      <td>Other</td>\n",
       "      <td>someHighSchool</td>\n",
       "      <td>18.913084</td>\n",
       "      <td>-70.744016</td>\n",
       "      <td>NaN</td>\n",
       "      <td>NaN</td>\n",
       "      <td>39.0</td>\n",
       "      <td>male</td>\n",
       "    </tr>\n",
       "    <tr>\n",
       "      <th>3</th>\n",
       "      <td>jk3fDkMvN9</td>\n",
       "      <td>single</td>\n",
       "      <td>Ama de casa</td>\n",
       "      <td>lessThanprimary</td>\n",
       "      <td>18.913325</td>\n",
       "      <td>-70.744557</td>\n",
       "      <td>NaN</td>\n",
       "      <td>NaN</td>\n",
       "      <td>39.0</td>\n",
       "      <td>female</td>\n",
       "    </tr>\n",
       "    <tr>\n",
       "      <th>4</th>\n",
       "      <td>pPgDn3kfGL</td>\n",
       "      <td>single</td>\n",
       "      <td>Estudiante</td>\n",
       "      <td>someHighSchool</td>\n",
       "      <td>18.913523</td>\n",
       "      <td>-70.745053</td>\n",
       "      <td>NaN</td>\n",
       "      <td>NaN</td>\n",
       "      <td>23.0</td>\n",
       "      <td>male</td>\n",
       "    </tr>\n",
       "  </tbody>\n",
       "</table>\n",
       "</div>"
      ],
      "text/plain": [
       "     objectId marriageStatus   occupation   educationLevel   latitude  \\\n",
       "0  XHCkKebF4a         single  Ama de casa  lessThanprimary  18.912087   \n",
       "1  ITCa1BkIiK         single  Ama de casa   someHighSchool  18.913084   \n",
       "2  AKjkw9A25J         single        Other   someHighSchool  18.913084   \n",
       "3  jk3fDkMvN9         single  Ama de casa  lessThanprimary  18.913325   \n",
       "4  pPgDn3kfGL         single   Estudiante   someHighSchool  18.913523   \n",
       "\n",
       "   longitude city province   age     sex  \n",
       "0 -70.743801  NaN      NaN  34.0  female  \n",
       "1 -70.744104  NaN      NaN  52.0  female  \n",
       "2 -70.744016  NaN      NaN  39.0    male  \n",
       "3 -70.744557  NaN      NaN  39.0  female  \n",
       "4 -70.745053  NaN      NaN  23.0    male  "
      ]
     },
     "execution_count": 125,
     "metadata": {},
     "output_type": "execute_result"
    }
   ],
   "source": [
    "survey_vitals.head()"
   ]
  },
  {
   "cell_type": "code",
   "execution_count": 126,
   "metadata": {},
   "outputs": [],
   "source": [
    "geo_loc = survey_vitals.loc[:, [\"latitude\", \"longitude\"]]"
   ]
  },
  {
   "cell_type": "code",
   "execution_count": 127,
   "metadata": {},
   "outputs": [],
   "source": [
    "scaler = StandardScaler()"
   ]
  },
  {
   "cell_type": "code",
   "execution_count": 128,
   "metadata": {},
   "outputs": [],
   "source": [
    "transformed_geo = scaler.fit_transform(geo_loc)"
   ]
  },
  {
   "cell_type": "code",
   "execution_count": 129,
   "metadata": {},
   "outputs": [
    {
     "data": {
      "text/plain": [
       "[<matplotlib.lines.Line2D at 0x7fd4bfa21dc0>]"
      ]
     },
     "execution_count": 129,
     "metadata": {},
     "output_type": "execute_result"
    },
    {
     "data": {
      "image/png": "[encoded data removed]",
      "text/plain": [
       "<Figure size 432x288 with 1 Axes>"
      ]
     },
     "metadata": {},
     "output_type": "display_data"
    }
   ],
   "source": [
    "inertias = []\n",
    "num_clusters = [1,2,3,4,5,6,7,8]\n",
    "for k in num_clusters:\n",
    "    model = KMeans(n_clusters = k, random_state = 42)\n",
    "    model.fit(transformed_geo)\n",
    "    inertias.append(model.inertia_)\n",
    "\n",
    "plt.plot(num_clusters, inertias, \"-o\")"
   ]
  },
  {
   "cell_type": "code",
   "execution_count": 130,
   "metadata": {},
   "outputs": [
    {
     "data": {
      "text/plain": [
       "array([0, 0, 0, ..., 2, 2, 2], dtype=int32)"
      ]
     },
     "execution_count": 130,
     "metadata": {},
     "output_type": "execute_result"
    }
   ],
   "source": [
    "model_KMeans =  KMeans(n_clusters = 4, random_state = 42)\n",
    "labels = model_KMeans.fit_predict(transformed_geo)\n",
    "labels"
   ]
  },
  {
   "cell_type": "code",
   "execution_count": 131,
   "metadata": {},
   "outputs": [
    {
     "data": {
      "text/html": [
       "<div>\n",
       "<style scoped>\n",
       "    .dataframe tbody tr th:only-of-type {\n",
       "        vertical-align: middle;\n",
       "    }\n",
       "\n",
       "    .dataframe tbody tr th {\n",
       "        vertical-align: top;\n",
       "    }\n",
       "\n",
       "    .dataframe thead th {\n",
       "        text-align: right;\n",
       "    }\n",
       "</style>\n",
       "<table border=\"1\" class=\"dataframe\">\n",
       "  <thead>\n",
       "    <tr style=\"text-align: right;\">\n",
       "      <th></th>\n",
       "      <th>objectId</th>\n",
       "      <th>marriageStatus</th>\n",
       "      <th>occupation</th>\n",
       "      <th>educationLevel</th>\n",
       "      <th>latitude</th>\n",
       "      <th>longitude</th>\n",
       "      <th>city</th>\n",
       "      <th>province</th>\n",
       "      <th>age</th>\n",
       "      <th>sex</th>\n",
       "      <th>clustersByLoc</th>\n",
       "    </tr>\n",
       "  </thead>\n",
       "  <tbody>\n",
       "    <tr>\n",
       "      <th>0</th>\n",
       "      <td>XHCkKebF4a</td>\n",
       "      <td>single</td>\n",
       "      <td>Ama de casa</td>\n",
       "      <td>lessThanprimary</td>\n",
       "      <td>18.912087</td>\n",
       "      <td>-70.743801</td>\n",
       "      <td>NaN</td>\n",
       "      <td>NaN</td>\n",
       "      <td>34.0</td>\n",
       "      <td>female</td>\n",
       "      <td>0</td>\n",
       "    </tr>\n",
       "    <tr>\n",
       "      <th>1</th>\n",
       "      <td>ITCa1BkIiK</td>\n",
       "      <td>single</td>\n",
       "      <td>Ama de casa</td>\n",
       "      <td>someHighSchool</td>\n",
       "      <td>18.913084</td>\n",
       "      <td>-70.744104</td>\n",
       "      <td>NaN</td>\n",
       "      <td>NaN</td>\n",
       "      <td>52.0</td>\n",
       "      <td>female</td>\n",
       "      <td>0</td>\n",
       "    </tr>\n",
       "    <tr>\n",
       "      <th>2</th>\n",
       "      <td>AKjkw9A25J</td>\n",
       "      <td>single</td>\n",
       "      <td>Other</td>\n",
       "      <td>someHighSchool</td>\n",
       "      <td>18.913084</td>\n",
       "      <td>-70.744016</td>\n",
       "      <td>NaN</td>\n",
       "      <td>NaN</td>\n",
       "      <td>39.0</td>\n",
       "      <td>male</td>\n",
       "      <td>0</td>\n",
       "    </tr>\n",
       "    <tr>\n",
       "      <th>3</th>\n",
       "      <td>jk3fDkMvN9</td>\n",
       "      <td>single</td>\n",
       "      <td>Ama de casa</td>\n",
       "      <td>lessThanprimary</td>\n",
       "      <td>18.913325</td>\n",
       "      <td>-70.744557</td>\n",
       "      <td>NaN</td>\n",
       "      <td>NaN</td>\n",
       "      <td>39.0</td>\n",
       "      <td>female</td>\n",
       "      <td>0</td>\n",
       "    </tr>\n",
       "    <tr>\n",
       "      <th>4</th>\n",
       "      <td>pPgDn3kfGL</td>\n",
       "      <td>single</td>\n",
       "      <td>Estudiante</td>\n",
       "      <td>someHighSchool</td>\n",
       "      <td>18.913523</td>\n",
       "      <td>-70.745053</td>\n",
       "      <td>NaN</td>\n",
       "      <td>NaN</td>\n",
       "      <td>23.0</td>\n",
       "      <td>male</td>\n",
       "      <td>0</td>\n",
       "    </tr>\n",
       "  </tbody>\n",
       "</table>\n",
       "</div>"
      ],
      "text/plain": [
       "     objectId marriageStatus   occupation   educationLevel   latitude  \\\n",
       "0  XHCkKebF4a         single  Ama de casa  lessThanprimary  18.912087   \n",
       "1  ITCa1BkIiK         single  Ama de casa   someHighSchool  18.913084   \n",
       "2  AKjkw9A25J         single        Other   someHighSchool  18.913084   \n",
       "3  jk3fDkMvN9         single  Ama de casa  lessThanprimary  18.913325   \n",
       "4  pPgDn3kfGL         single   Estudiante   someHighSchool  18.913523   \n",
       "\n",
       "   longitude city province   age     sex  clustersByLoc  \n",
       "0 -70.743801  NaN      NaN  34.0  female              0  \n",
       "1 -70.744104  NaN      NaN  52.0  female              0  \n",
       "2 -70.744016  NaN      NaN  39.0    male              0  \n",
       "3 -70.744557  NaN      NaN  39.0  female              0  \n",
       "4 -70.745053  NaN      NaN  23.0    male              0  "
      ]
     },
     "execution_count": 131,
     "metadata": {},
     "output_type": "execute_result"
    }
   ],
   "source": [
    "survey_vitals[\"clustersByLoc\"] = list(labels)\n",
    "survey_vitals.head()"
   ]
  },
  {
   "cell_type": "code",
   "execution_count": 132,
   "metadata": {},
   "outputs": [],
   "source": [
    "def province_clean(cluster):\n",
    "    if cluster == 0:\n",
    "        return \"Lavega\"\n",
    "    elif cluster == 1:\n",
    "        return \"San Pedro de Macoris\"\n",
    "    elif cluster == 2:\n",
    "        return \"Santiago\"\n",
    "    else:\n",
    "        return \"San Pedro de Macoris/North\""
   ]
  },
  {
   "cell_type": "code",
   "execution_count": 133,
   "metadata": {},
   "outputs": [],
   "source": [
    "survey_vitals = survey_vitals.drop(columns = [\"city\", \"province\"], axis = 1)\n",
    "survey_vitals[\"province\"] = survey_vitals[\"clustersByLoc\"].apply(province_clean)"
   ]
  },
  {
   "cell_type": "code",
   "execution_count": 134,
   "metadata": {},
   "outputs": [
    {
     "data": {
      "text/html": [
       "<div>\n",
       "<style scoped>\n",
       "    .dataframe tbody tr th:only-of-type {\n",
       "        vertical-align: middle;\n",
       "    }\n",
       "\n",
       "    .dataframe tbody tr th {\n",
       "        vertical-align: top;\n",
       "    }\n",
       "\n",
       "    .dataframe thead th {\n",
       "        text-align: right;\n",
       "    }\n",
       "</style>\n",
       "<table border=\"1\" class=\"dataframe\">\n",
       "  <thead>\n",
       "    <tr style=\"text-align: right;\">\n",
       "      <th></th>\n",
       "      <th>objectId</th>\n",
       "      <th>marriageStatus</th>\n",
       "      <th>occupation</th>\n",
       "      <th>educationLevel</th>\n",
       "      <th>latitude</th>\n",
       "      <th>longitude</th>\n",
       "      <th>age</th>\n",
       "      <th>sex</th>\n",
       "      <th>clustersByLoc</th>\n",
       "      <th>province</th>\n",
       "    </tr>\n",
       "  </thead>\n",
       "  <tbody>\n",
       "    <tr>\n",
       "      <th>0</th>\n",
       "      <td>XHCkKebF4a</td>\n",
       "      <td>single</td>\n",
       "      <td>Ama de casa</td>\n",
       "      <td>lessThanprimary</td>\n",
       "      <td>18.912087</td>\n",
       "      <td>-70.743801</td>\n",
       "      <td>34.0</td>\n",
       "      <td>female</td>\n",
       "      <td>0</td>\n",
       "      <td>Lavega</td>\n",
       "    </tr>\n",
       "    <tr>\n",
       "      <th>1</th>\n",
       "      <td>ITCa1BkIiK</td>\n",
       "      <td>single</td>\n",
       "      <td>Ama de casa</td>\n",
       "      <td>someHighSchool</td>\n",
       "      <td>18.913084</td>\n",
       "      <td>-70.744104</td>\n",
       "      <td>52.0</td>\n",
       "      <td>female</td>\n",
       "      <td>0</td>\n",
       "      <td>Lavega</td>\n",
       "    </tr>\n",
       "    <tr>\n",
       "      <th>2</th>\n",
       "      <td>AKjkw9A25J</td>\n",
       "      <td>single</td>\n",
       "      <td>Other</td>\n",
       "      <td>someHighSchool</td>\n",
       "      <td>18.913084</td>\n",
       "      <td>-70.744016</td>\n",
       "      <td>39.0</td>\n",
       "      <td>male</td>\n",
       "      <td>0</td>\n",
       "      <td>Lavega</td>\n",
       "    </tr>\n",
       "    <tr>\n",
       "      <th>3</th>\n",
       "      <td>jk3fDkMvN9</td>\n",
       "      <td>single</td>\n",
       "      <td>Ama de casa</td>\n",
       "      <td>lessThanprimary</td>\n",
       "      <td>18.913325</td>\n",
       "      <td>-70.744557</td>\n",
       "      <td>39.0</td>\n",
       "      <td>female</td>\n",
       "      <td>0</td>\n",
       "      <td>Lavega</td>\n",
       "    </tr>\n",
       "    <tr>\n",
       "      <th>4</th>\n",
       "      <td>pPgDn3kfGL</td>\n",
       "      <td>single</td>\n",
       "      <td>Estudiante</td>\n",
       "      <td>someHighSchool</td>\n",
       "      <td>18.913523</td>\n",
       "      <td>-70.745053</td>\n",
       "      <td>23.0</td>\n",
       "      <td>male</td>\n",
       "      <td>0</td>\n",
       "      <td>Lavega</td>\n",
       "    </tr>\n",
       "  </tbody>\n",
       "</table>\n",
       "</div>"
      ],
      "text/plain": [
       "     objectId marriageStatus   occupation   educationLevel   latitude  \\\n",
       "0  XHCkKebF4a         single  Ama de casa  lessThanprimary  18.912087   \n",
       "1  ITCa1BkIiK         single  Ama de casa   someHighSchool  18.913084   \n",
       "2  AKjkw9A25J         single        Other   someHighSchool  18.913084   \n",
       "3  jk3fDkMvN9         single  Ama de casa  lessThanprimary  18.913325   \n",
       "4  pPgDn3kfGL         single   Estudiante   someHighSchool  18.913523   \n",
       "\n",
       "   longitude   age     sex  clustersByLoc province  \n",
       "0 -70.743801  34.0  female              0   Lavega  \n",
       "1 -70.744104  52.0  female              0   Lavega  \n",
       "2 -70.744016  39.0    male              0   Lavega  \n",
       "3 -70.744557  39.0  female              0   Lavega  \n",
       "4 -70.745053  23.0    male              0   Lavega  "
      ]
     },
     "execution_count": 134,
     "metadata": {},
     "output_type": "execute_result"
    }
   ],
   "source": [
    "survey_vitals.head()"
   ]
  },
  {
   "cell_type": "code",
   "execution_count": 135,
   "metadata": {},
   "outputs": [
    {
     "data": {
      "image/png": "[encoded data removed]",
      "text/plain": [
       "<Figure size 1152x720 with 1 Axes>"
      ]
     },
     "metadata": {},
     "output_type": "display_data"
    }
   ],
   "source": [
    "plt.figure(figsize = (16,10))\n",
    "ax = sns.scatterplot(data = survey_vitals, x = \"longitude\", y = \"latitude\", hue = \"clustersByLoc\", palette = \"deep\")"
   ]
  },
  {
   "cell_type": "markdown",
   "metadata": {},
   "source": [
    "# Dealing with missing values: survey_vitals"
   ]
  },
  {
   "cell_type": "markdown",
   "metadata": {},
   "source": [
    "### 1. survey_vitals"
   ]
  },
  {
   "cell_type": "code",
   "execution_count": 144,
   "metadata": {},
   "outputs": [
    {
     "data": {
      "text/plain": [
       "(9458, 10)"
      ]
     },
     "execution_count": 144,
     "metadata": {},
     "output_type": "execute_result"
    }
   ],
   "source": [
    "survey_vitals.shape"
   ]
  },
  {
   "cell_type": "code",
   "execution_count": 137,
   "metadata": {},
   "outputs": [
    {
     "data": {
      "text/plain": [
       "objectId             0\n",
       "marriageStatus    1597\n",
       "occupation           0\n",
       "educationLevel    1486\n",
       "latitude             0\n",
       "longitude            0\n",
       "age                482\n",
       "sex                  0\n",
       "clustersByLoc        0\n",
       "province             0\n",
       "dtype: int64"
      ]
     },
     "execution_count": 137,
     "metadata": {},
     "output_type": "execute_result"
    }
   ],
   "source": [
    "survey_vitals.isna().sum()"
   ]
  },
  {
   "cell_type": "code",
   "execution_count": 141,
   "metadata": {},
   "outputs": [
    {
     "data": {
      "text/plain": [
       "37.0"
      ]
     },
     "execution_count": 141,
     "metadata": {},
     "output_type": "execute_result"
    }
   ],
   "source": [
    "values = {\"marriageStatus\": , \"educationLevel\": , \"age\": survey_vitals.age.mean()}"
   ]
  },
  {
   "cell_type": "code",
   "execution_count": null,
   "metadata": {},
   "outputs": [],
   "source": [
    "survey_vitals = survey_vitals.fillna(values = values)"
   ]
  },
  {
   "cell_type": "markdown",
   "metadata": {},
   "source": [
    "### 2. eval_med"
   ]
  },
  {
   "cell_type": "code",
   "execution_count": 145,
   "metadata": {},
   "outputs": [
    {
     "data": {
      "text/plain": [
       "(8263, 7)"
      ]
     },
     "execution_count": 145,
     "metadata": {},
     "output_type": "execute_result"
    }
   ],
   "source": [
    "eval_med.shape"
   ]
  },
  {
   "cell_type": "code",
   "execution_count": 143,
   "metadata": {},
   "outputs": [
    {
     "data": {
      "text/plain": [
       "objectId                      0\n",
       "AssessmentandEvaluation       0\n",
       "planOfAction                  0\n",
       "duration                    694\n",
       "part_of_body               1491\n",
       "trauma_induced              803\n",
       "condition_progression       825\n",
       "dtype: int64"
      ]
     },
     "execution_count": 143,
     "metadata": {},
     "output_type": "execute_result"
    }
   ],
   "source": [
    "eval_med.isna().sum()"
   ]
  },
  {
   "cell_type": "code",
   "execution_count": null,
   "metadata": {},
   "outputs": [],
   "source": [
    "values = {\"marriageStatus\": , \"educationLevel\": , \"age\": survey_vitals.age.mean()}"
   ]
  },
  {
   "cell_type": "markdown",
   "metadata": {},
   "source": [
    "# Mergings"
   ]
  },
  {
   "cell_type": "markdown",
   "metadata": {},
   "source": [
    "### 1. History_env x survey_vitals"
   ]
  },
  {
   "cell_type": "code",
   "execution_count": 119,
   "metadata": {},
   "outputs": [
    {
     "data": {
      "text/html": [
       "<div>\n",
       "<style scoped>\n",
       "    .dataframe tbody tr th:only-of-type {\n",
       "        vertical-align: middle;\n",
       "    }\n",
       "\n",
       "    .dataframe tbody tr th {\n",
       "        vertical-align: top;\n",
       "    }\n",
       "\n",
       "    .dataframe thead th {\n",
       "        text-align: right;\n",
       "    }\n",
       "</style>\n",
       "<table border=\"1\" class=\"dataframe\">\n",
       "  <thead>\n",
       "    <tr style=\"text-align: right;\">\n",
       "      <th></th>\n",
       "      <th>objectId</th>\n",
       "      <th>marriageStatus</th>\n",
       "      <th>occupation</th>\n",
       "      <th>educationLevel</th>\n",
       "      <th>latitude</th>\n",
       "      <th>longitude</th>\n",
       "      <th>age</th>\n",
       "      <th>sex</th>\n",
       "      <th>clustersByLoc</th>\n",
       "      <th>province</th>\n",
       "      <th>...</th>\n",
       "      <th>conditionoRoofinyourhouse</th>\n",
       "      <th>medicalproblemswheredoyougo</th>\n",
       "      <th>dentalproblemswheredoyougo</th>\n",
       "      <th>biggestproblemofcommunity</th>\n",
       "      <th>timesperweektrashcollected</th>\n",
       "      <th>wheretrashleftbetweenpickups</th>\n",
       "      <th>numberofIndividualsLivingintheHouse</th>\n",
       "      <th>numberofChildrenLivinginHouseUndertheAgeof5</th>\n",
       "      <th>houseownership</th>\n",
       "      <th>bathroomAccess</th>\n",
       "    </tr>\n",
       "  </thead>\n",
       "  <tbody>\n",
       "    <tr>\n",
       "      <th>0</th>\n",
       "      <td>lLkC5HGPOC</td>\n",
       "      <td>widow</td>\n",
       "      <td>Ama de casa</td>\n",
       "      <td>lessThanprimary</td>\n",
       "      <td>18.914416</td>\n",
       "      <td>-70.745642</td>\n",
       "      <td>67.0</td>\n",
       "      <td>female</td>\n",
       "      <td>0</td>\n",
       "      <td>Lavega</td>\n",
       "      <td>...</td>\n",
       "      <td>working</td>\n",
       "      <td>Other Hospital</td>\n",
       "      <td>Other Hospital</td>\n",
       "      <td>Roads</td>\n",
       "      <td>1-2</td>\n",
       "      <td>other</td>\n",
       "      <td>1</td>\n",
       "      <td>0</td>\n",
       "      <td>rented</td>\n",
       "      <td>NaN</td>\n",
       "    </tr>\n",
       "    <tr>\n",
       "      <th>1</th>\n",
       "      <td>gIoG2SAL99</td>\n",
       "      <td>widow</td>\n",
       "      <td>Other</td>\n",
       "      <td>lessThanprimary</td>\n",
       "      <td>18.914196</td>\n",
       "      <td>-70.746286</td>\n",
       "      <td>80.0</td>\n",
       "      <td>male</td>\n",
       "      <td>0</td>\n",
       "      <td>Lavega</td>\n",
       "      <td>...</td>\n",
       "      <td>poor</td>\n",
       "      <td>Other Hospital</td>\n",
       "      <td>Dentist</td>\n",
       "      <td>Roads</td>\n",
       "      <td>1-2</td>\n",
       "      <td>other</td>\n",
       "      <td>5</td>\n",
       "      <td>0</td>\n",
       "      <td>owned</td>\n",
       "      <td>NaN</td>\n",
       "    </tr>\n",
       "    <tr>\n",
       "      <th>2</th>\n",
       "      <td>GiArohoFUo</td>\n",
       "      <td>married</td>\n",
       "      <td>Other</td>\n",
       "      <td>college</td>\n",
       "      <td>18.910474</td>\n",
       "      <td>-70.747658</td>\n",
       "      <td>41.0</td>\n",
       "      <td>female</td>\n",
       "      <td>0</td>\n",
       "      <td>Lavega</td>\n",
       "      <td>...</td>\n",
       "      <td>NaN</td>\n",
       "      <td>Other</td>\n",
       "      <td>Clinic</td>\n",
       "      <td>Other</td>\n",
       "      <td>3-5</td>\n",
       "      <td>other</td>\n",
       "      <td>4</td>\n",
       "      <td>0</td>\n",
       "      <td>NaN</td>\n",
       "      <td>NaN</td>\n",
       "    </tr>\n",
       "    <tr>\n",
       "      <th>3</th>\n",
       "      <td>rnNw8AxEix</td>\n",
       "      <td>single</td>\n",
       "      <td>Ama de casa</td>\n",
       "      <td>primary</td>\n",
       "      <td>18.910484</td>\n",
       "      <td>-70.747650</td>\n",
       "      <td>40.0</td>\n",
       "      <td>female</td>\n",
       "      <td>0</td>\n",
       "      <td>Lavega</td>\n",
       "      <td>...</td>\n",
       "      <td>working</td>\n",
       "      <td>Other Hospital</td>\n",
       "      <td>Other</td>\n",
       "      <td>Water</td>\n",
       "      <td>1-2</td>\n",
       "      <td>other</td>\n",
       "      <td>4</td>\n",
       "      <td>0</td>\n",
       "      <td>NaN</td>\n",
       "      <td>NaN</td>\n",
       "    </tr>\n",
       "    <tr>\n",
       "      <th>4</th>\n",
       "      <td>YBLTPHNqsH</td>\n",
       "      <td>concubine</td>\n",
       "      <td>Other</td>\n",
       "      <td>lessThanprimary</td>\n",
       "      <td>18.915163</td>\n",
       "      <td>-70.741626</td>\n",
       "      <td>59.0</td>\n",
       "      <td>male</td>\n",
       "      <td>0</td>\n",
       "      <td>Lavega</td>\n",
       "      <td>...</td>\n",
       "      <td>working</td>\n",
       "      <td>Clinic</td>\n",
       "      <td>Other</td>\n",
       "      <td>Other</td>\n",
       "      <td>1-2</td>\n",
       "      <td>street</td>\n",
       "      <td>4</td>\n",
       "      <td>0</td>\n",
       "      <td>NaN</td>\n",
       "      <td>NaN</td>\n",
       "    </tr>\n",
       "  </tbody>\n",
       "</table>\n",
       "<p>5 rows × 25 columns</p>\n",
       "</div>"
      ],
      "text/plain": [
       "     objectId marriageStatus   occupation   educationLevel   latitude  \\\n",
       "0  lLkC5HGPOC          widow  Ama de casa  lessThanprimary  18.914416   \n",
       "1  gIoG2SAL99          widow        Other  lessThanprimary  18.914196   \n",
       "2  GiArohoFUo        married        Other          college  18.910474   \n",
       "3  rnNw8AxEix         single  Ama de casa          primary  18.910484   \n",
       "4  YBLTPHNqsH      concubine        Other  lessThanprimary  18.915163   \n",
       "\n",
       "   longitude   age     sex  clustersByLoc province  ...  \\\n",
       "0 -70.745642  67.0  female              0   Lavega  ...   \n",
       "1 -70.746286  80.0    male              0   Lavega  ...   \n",
       "2 -70.747658  41.0  female              0   Lavega  ...   \n",
       "3 -70.747650  40.0  female              0   Lavega  ...   \n",
       "4 -70.741626  59.0    male              0   Lavega  ...   \n",
       "\n",
       "  conditionoRoofinyourhouse medicalproblemswheredoyougo  \\\n",
       "0                   working              Other Hospital   \n",
       "1                      poor              Other Hospital   \n",
       "2                       NaN                       Other   \n",
       "3                   working              Other Hospital   \n",
       "4                   working                      Clinic   \n",
       "\n",
       "  dentalproblemswheredoyougo biggestproblemofcommunity  \\\n",
       "0             Other Hospital                     Roads   \n",
       "1                    Dentist                     Roads   \n",
       "2                     Clinic                     Other   \n",
       "3                      Other                     Water   \n",
       "4                      Other                     Other   \n",
       "\n",
       "  timesperweektrashcollected wheretrashleftbetweenpickups  \\\n",
       "0                        1-2                        other   \n",
       "1                        1-2                        other   \n",
       "2                        3-5                        other   \n",
       "3                        1-2                        other   \n",
       "4                        1-2                       street   \n",
       "\n",
       "  numberofIndividualsLivingintheHouse  \\\n",
       "0                                   1   \n",
       "1                                   5   \n",
       "2                                   4   \n",
       "3                                   4   \n",
       "4                                   4   \n",
       "\n",
       "  numberofChildrenLivinginHouseUndertheAgeof5 houseownership bathroomAccess  \n",
       "0                                           0         rented            NaN  \n",
       "1                                           0          owned            NaN  \n",
       "2                                           0            NaN            NaN  \n",
       "3                                           0            NaN            NaN  \n",
       "4                                           0            NaN            NaN  \n",
       "\n",
       "[5 rows x 25 columns]"
      ]
     },
     "execution_count": 119,
     "metadata": {},
     "output_type": "execute_result"
    }
   ],
   "source": [
    "survey_environ = survey_vitals.merge(history_env, how = \"inner\", on = \"objectId\")\n",
    "survey_environ.head()"
   ]
  },
  {
   "cell_type": "code",
   "execution_count": 120,
   "metadata": {},
   "outputs": [
    {
     "data": {
      "text/plain": [
       "(5423, 25)"
      ]
     },
     "execution_count": 120,
     "metadata": {},
     "output_type": "execute_result"
    }
   ],
   "source": [
    "survey_environ.shape"
   ]
  },
  {
   "cell_type": "markdown",
   "metadata": {},
   "source": [
    "### 2. Survey_vitals x eval_med"
   ]
  },
  {
   "cell_type": "code",
   "execution_count": 121,
   "metadata": {},
   "outputs": [
    {
     "data": {
      "text/html": [
       "<div>\n",
       "<style scoped>\n",
       "    .dataframe tbody tr th:only-of-type {\n",
       "        vertical-align: middle;\n",
       "    }\n",
       "\n",
       "    .dataframe tbody tr th {\n",
       "        vertical-align: top;\n",
       "    }\n",
       "\n",
       "    .dataframe thead th {\n",
       "        text-align: right;\n",
       "    }\n",
       "</style>\n",
       "<table border=\"1\" class=\"dataframe\">\n",
       "  <thead>\n",
       "    <tr style=\"text-align: right;\">\n",
       "      <th></th>\n",
       "      <th>objectId</th>\n",
       "      <th>marriageStatus</th>\n",
       "      <th>occupation</th>\n",
       "      <th>educationLevel</th>\n",
       "      <th>latitude</th>\n",
       "      <th>longitude</th>\n",
       "      <th>age</th>\n",
       "      <th>sex</th>\n",
       "      <th>clustersByLoc</th>\n",
       "      <th>province</th>\n",
       "      <th>AssessmentandEvaluation</th>\n",
       "      <th>planOfAction</th>\n",
       "      <th>duration</th>\n",
       "      <th>part_of_body</th>\n",
       "      <th>trauma_induced</th>\n",
       "      <th>condition_progression</th>\n",
       "    </tr>\n",
       "  </thead>\n",
       "  <tbody>\n",
       "    <tr>\n",
       "      <th>0</th>\n",
       "      <td>8BAdCPGEE1</td>\n",
       "      <td>concubine</td>\n",
       "      <td>Other</td>\n",
       "      <td>lessThanprimary</td>\n",
       "      <td>18.912805</td>\n",
       "      <td>-70.744914</td>\n",
       "      <td>73.0</td>\n",
       "      <td>male</td>\n",
       "      <td>0</td>\n",
       "      <td>Lavega</td>\n",
       "      <td>Yes</td>\n",
       "      <td>none</td>\n",
       "      <td>NaN</td>\n",
       "      <td>NaN</td>\n",
       "      <td>NaN</td>\n",
       "      <td>NaN</td>\n",
       "    </tr>\n",
       "    <tr>\n",
       "      <th>1</th>\n",
       "      <td>8BAdCPGEE1</td>\n",
       "      <td>concubine</td>\n",
       "      <td>Other</td>\n",
       "      <td>lessThanprimary</td>\n",
       "      <td>18.912805</td>\n",
       "      <td>-70.744914</td>\n",
       "      <td>73.0</td>\n",
       "      <td>male</td>\n",
       "      <td>0</td>\n",
       "      <td>Lavega</td>\n",
       "      <td>Yes</td>\n",
       "      <td>other</td>\n",
       "      <td>NaN</td>\n",
       "      <td>NaN</td>\n",
       "      <td>NaN</td>\n",
       "      <td>NaN</td>\n",
       "    </tr>\n",
       "    <tr>\n",
       "      <th>2</th>\n",
       "      <td>bWCqNwtKYL</td>\n",
       "      <td>concubine</td>\n",
       "      <td>Ama de casa</td>\n",
       "      <td>lessThanprimary</td>\n",
       "      <td>18.912537</td>\n",
       "      <td>-70.744927</td>\n",
       "      <td>65.0</td>\n",
       "      <td>female</td>\n",
       "      <td>0</td>\n",
       "      <td>Lavega</td>\n",
       "      <td>No</td>\n",
       "      <td>none</td>\n",
       "      <td>NaN</td>\n",
       "      <td>NaN</td>\n",
       "      <td>NaN</td>\n",
       "      <td>NaN</td>\n",
       "    </tr>\n",
       "    <tr>\n",
       "      <th>3</th>\n",
       "      <td>bWCqNwtKYL</td>\n",
       "      <td>concubine</td>\n",
       "      <td>Ama de casa</td>\n",
       "      <td>lessThanprimary</td>\n",
       "      <td>18.912537</td>\n",
       "      <td>-70.744927</td>\n",
       "      <td>65.0</td>\n",
       "      <td>female</td>\n",
       "      <td>0</td>\n",
       "      <td>Lavega</td>\n",
       "      <td>Yes</td>\n",
       "      <td>other</td>\n",
       "      <td>NaN</td>\n",
       "      <td>NaN</td>\n",
       "      <td>NaN</td>\n",
       "      <td>NaN</td>\n",
       "    </tr>\n",
       "    <tr>\n",
       "      <th>4</th>\n",
       "      <td>056xDPGU2U</td>\n",
       "      <td>concubine</td>\n",
       "      <td>Other</td>\n",
       "      <td>lessThanprimary</td>\n",
       "      <td>18.912727</td>\n",
       "      <td>-70.745074</td>\n",
       "      <td>79.0</td>\n",
       "      <td>male</td>\n",
       "      <td>0</td>\n",
       "      <td>Lavega</td>\n",
       "      <td>No</td>\n",
       "      <td>none</td>\n",
       "      <td>NaN</td>\n",
       "      <td>NaN</td>\n",
       "      <td>NaN</td>\n",
       "      <td>NaN</td>\n",
       "    </tr>\n",
       "  </tbody>\n",
       "</table>\n",
       "</div>"
      ],
      "text/plain": [
       "     objectId marriageStatus   occupation   educationLevel   latitude  \\\n",
       "0  8BAdCPGEE1      concubine        Other  lessThanprimary  18.912805   \n",
       "1  8BAdCPGEE1      concubine        Other  lessThanprimary  18.912805   \n",
       "2  bWCqNwtKYL      concubine  Ama de casa  lessThanprimary  18.912537   \n",
       "3  bWCqNwtKYL      concubine  Ama de casa  lessThanprimary  18.912537   \n",
       "4  056xDPGU2U      concubine        Other  lessThanprimary  18.912727   \n",
       "\n",
       "   longitude   age     sex  clustersByLoc province AssessmentandEvaluation  \\\n",
       "0 -70.744914  73.0    male              0   Lavega                     Yes   \n",
       "1 -70.744914  73.0    male              0   Lavega                     Yes   \n",
       "2 -70.744927  65.0  female              0   Lavega                      No   \n",
       "3 -70.744927  65.0  female              0   Lavega                     Yes   \n",
       "4 -70.745074  79.0    male              0   Lavega                      No   \n",
       "\n",
       "  planOfAction duration part_of_body trauma_induced condition_progression  \n",
       "0         none      NaN          NaN            NaN                   NaN  \n",
       "1        other      NaN          NaN            NaN                   NaN  \n",
       "2         none      NaN          NaN            NaN                   NaN  \n",
       "3        other      NaN          NaN            NaN                   NaN  \n",
       "4         none      NaN          NaN            NaN                   NaN  "
      ]
     },
     "execution_count": 121,
     "metadata": {},
     "output_type": "execute_result"
    }
   ],
   "source": [
    "survey_med = survey_vitals.merge(eval_med, how = \"inner\", on = \"objectId\")\n",
    "survey_med.head()"
   ]
  },
  {
   "cell_type": "code",
   "execution_count": 91,
   "metadata": {},
   "outputs": [
    {
     "data": {
      "text/plain": [
       "(8171, 17)"
      ]
     },
     "execution_count": 91,
     "metadata": {},
     "output_type": "execute_result"
    }
   ],
   "source": [
    "survey_med.shape"
   ]
  },
  {
   "cell_type": "markdown",
   "metadata": {},
   "source": [
    "### 3. History_env x survey_med"
   ]
  },
  {
   "cell_type": "code",
   "execution_count": 94,
   "metadata": {},
   "outputs": [
    {
     "data": {
      "text/html": [
       "<div>\n",
       "<style scoped>\n",
       "    .dataframe tbody tr th:only-of-type {\n",
       "        vertical-align: middle;\n",
       "    }\n",
       "\n",
       "    .dataframe tbody tr th {\n",
       "        vertical-align: top;\n",
       "    }\n",
       "\n",
       "    .dataframe thead th {\n",
       "        text-align: right;\n",
       "    }\n",
       "</style>\n",
       "<table border=\"1\" class=\"dataframe\">\n",
       "  <thead>\n",
       "    <tr style=\"text-align: right;\">\n",
       "      <th></th>\n",
       "      <th>objectId</th>\n",
       "      <th>yearsLivedinThisHouse</th>\n",
       "      <th>waterAccess</th>\n",
       "      <th>typeofWaterdoyoudrink</th>\n",
       "      <th>latrineAccess</th>\n",
       "      <th>conditionoFloorinyourhouse</th>\n",
       "      <th>conditionoRoofinyourhouse</th>\n",
       "      <th>medicalproblemswheredoyougo</th>\n",
       "      <th>dentalproblemswheredoyougo</th>\n",
       "      <th>biggestproblemofcommunity</th>\n",
       "      <th>...</th>\n",
       "      <th>numberofIndividualsLivingintheHouse</th>\n",
       "      <th>numberofChildrenLivinginHouseUndertheAgeof5</th>\n",
       "      <th>houseownership</th>\n",
       "      <th>bathroomAccess</th>\n",
       "      <th>AssessmentandEvaluation</th>\n",
       "      <th>planOfAction</th>\n",
       "      <th>duration</th>\n",
       "      <th>part_of_body</th>\n",
       "      <th>trauma_induced</th>\n",
       "      <th>condition_progression</th>\n",
       "    </tr>\n",
       "  </thead>\n",
       "  <tbody>\n",
       "    <tr>\n",
       "      <th>0</th>\n",
       "      <td>FoatG2gGXl</td>\n",
       "      <td>1-2</td>\n",
       "      <td>everyday</td>\n",
       "      <td>tap</td>\n",
       "      <td>Y</td>\n",
       "      <td>dirtPoor</td>\n",
       "      <td>working</td>\n",
       "      <td>Other</td>\n",
       "      <td>Other</td>\n",
       "      <td>Other</td>\n",
       "      <td>...</td>\n",
       "      <td>8</td>\n",
       "      <td>1</td>\n",
       "      <td>owned</td>\n",
       "      <td>NaN</td>\n",
       "      <td>Yes</td>\n",
       "      <td>other</td>\n",
       "      <td>NaN</td>\n",
       "      <td>NaN</td>\n",
       "      <td>NaN</td>\n",
       "      <td>NaN</td>\n",
       "    </tr>\n",
       "    <tr>\n",
       "      <th>1</th>\n",
       "      <td>dzkEclDkh9</td>\n",
       "      <td>5-10</td>\n",
       "      <td>1AWeek</td>\n",
       "      <td>tap</td>\n",
       "      <td>Y</td>\n",
       "      <td>cementWorking</td>\n",
       "      <td>working</td>\n",
       "      <td>Other Hospital</td>\n",
       "      <td>Other Hospital</td>\n",
       "      <td>Water</td>\n",
       "      <td>...</td>\n",
       "      <td>3</td>\n",
       "      <td>0</td>\n",
       "      <td>owned</td>\n",
       "      <td>NaN</td>\n",
       "      <td>Yes</td>\n",
       "      <td>none</td>\n",
       "      <td>NaN</td>\n",
       "      <td>NaN</td>\n",
       "      <td>NaN</td>\n",
       "      <td>NaN</td>\n",
       "    </tr>\n",
       "    <tr>\n",
       "      <th>2</th>\n",
       "      <td>dzkEclDkh9</td>\n",
       "      <td>moreThan10</td>\n",
       "      <td>1AWeek</td>\n",
       "      <td>bottled</td>\n",
       "      <td>Y</td>\n",
       "      <td>cementPoor</td>\n",
       "      <td>working</td>\n",
       "      <td>Other Hospital</td>\n",
       "      <td>Other</td>\n",
       "      <td>Roads</td>\n",
       "      <td>...</td>\n",
       "      <td>5</td>\n",
       "      <td>1</td>\n",
       "      <td>owned</td>\n",
       "      <td>NaN</td>\n",
       "      <td>Yes</td>\n",
       "      <td>none</td>\n",
       "      <td>NaN</td>\n",
       "      <td>NaN</td>\n",
       "      <td>NaN</td>\n",
       "      <td>NaN</td>\n",
       "    </tr>\n",
       "    <tr>\n",
       "      <th>3</th>\n",
       "      <td>spnTo4zKCI</td>\n",
       "      <td>1-2</td>\n",
       "      <td>1AWeek</td>\n",
       "      <td>bottled</td>\n",
       "      <td>Y</td>\n",
       "      <td>cementWorking</td>\n",
       "      <td>poor</td>\n",
       "      <td>Other Hospital</td>\n",
       "      <td>Other</td>\n",
       "      <td>Water</td>\n",
       "      <td>...</td>\n",
       "      <td>5</td>\n",
       "      <td>2</td>\n",
       "      <td>rented</td>\n",
       "      <td>NaN</td>\n",
       "      <td>No</td>\n",
       "      <td>other</td>\n",
       "      <td>within_last_month</td>\n",
       "      <td>bones_or_joints</td>\n",
       "      <td>suddenly_but_not_due_to_trauma</td>\n",
       "      <td>NaN</td>\n",
       "    </tr>\n",
       "    <tr>\n",
       "      <th>4</th>\n",
       "      <td>spnTo4zKCI</td>\n",
       "      <td>1-2</td>\n",
       "      <td>1AWeek</td>\n",
       "      <td>bottled</td>\n",
       "      <td>Y</td>\n",
       "      <td>cementWorking</td>\n",
       "      <td>poor</td>\n",
       "      <td>Other Hospital</td>\n",
       "      <td>Other Hospital</td>\n",
       "      <td>Water</td>\n",
       "      <td>...</td>\n",
       "      <td>5</td>\n",
       "      <td>2</td>\n",
       "      <td>rented</td>\n",
       "      <td>NaN</td>\n",
       "      <td>No</td>\n",
       "      <td>other</td>\n",
       "      <td>within_last_month</td>\n",
       "      <td>bones_or_joints</td>\n",
       "      <td>suddenly_but_not_due_to_trauma</td>\n",
       "      <td>NaN</td>\n",
       "    </tr>\n",
       "  </tbody>\n",
       "</table>\n",
       "<p>5 rows × 22 columns</p>\n",
       "</div>"
      ],
      "text/plain": [
       "     objectId yearsLivedinThisHouse waterAccess typeofWaterdoyoudrink  \\\n",
       "0  FoatG2gGXl                   1-2    everyday                   tap   \n",
       "1  dzkEclDkh9                  5-10      1AWeek                   tap   \n",
       "2  dzkEclDkh9            moreThan10      1AWeek               bottled   \n",
       "3  spnTo4zKCI                   1-2      1AWeek               bottled   \n",
       "4  spnTo4zKCI                   1-2      1AWeek               bottled   \n",
       "\n",
       "  latrineAccess conditionoFloorinyourhouse conditionoRoofinyourhouse  \\\n",
       "0             Y                   dirtPoor                   working   \n",
       "1             Y              cementWorking                   working   \n",
       "2             Y                 cementPoor                   working   \n",
       "3             Y              cementWorking                      poor   \n",
       "4             Y              cementWorking                      poor   \n",
       "\n",
       "  medicalproblemswheredoyougo dentalproblemswheredoyougo  \\\n",
       "0                       Other                      Other   \n",
       "1              Other Hospital             Other Hospital   \n",
       "2              Other Hospital                      Other   \n",
       "3              Other Hospital                      Other   \n",
       "4              Other Hospital             Other Hospital   \n",
       "\n",
       "  biggestproblemofcommunity  ... numberofIndividualsLivingintheHouse  \\\n",
       "0                     Other  ...                                   8   \n",
       "1                     Water  ...                                   3   \n",
       "2                     Roads  ...                                   5   \n",
       "3                     Water  ...                                   5   \n",
       "4                     Water  ...                                   5   \n",
       "\n",
       "  numberofChildrenLivinginHouseUndertheAgeof5  houseownership  bathroomAccess  \\\n",
       "0                                           1           owned             NaN   \n",
       "1                                           0           owned             NaN   \n",
       "2                                           1           owned             NaN   \n",
       "3                                           2          rented             NaN   \n",
       "4                                           2          rented             NaN   \n",
       "\n",
       "  AssessmentandEvaluation planOfAction           duration     part_of_body  \\\n",
       "0                     Yes        other                NaN              NaN   \n",
       "1                     Yes         none                NaN              NaN   \n",
       "2                     Yes         none                NaN              NaN   \n",
       "3                      No        other  within_last_month  bones_or_joints   \n",
       "4                      No        other  within_last_month  bones_or_joints   \n",
       "\n",
       "                   trauma_induced condition_progression  \n",
       "0                             NaN                   NaN  \n",
       "1                             NaN                   NaN  \n",
       "2                             NaN                   NaN  \n",
       "3  suddenly_but_not_due_to_trauma                   NaN  \n",
       "4  suddenly_but_not_due_to_trauma                   NaN  \n",
       "\n",
       "[5 rows x 22 columns]"
      ]
     },
     "execution_count": 94,
     "metadata": {},
     "output_type": "execute_result"
    }
   ],
   "source": [
    "env_med = history_env.merge(eval_med, how = \"inner\", on = \"objectId\")\n",
    "env_med.head()"
   ]
  },
  {
   "cell_type": "code",
   "execution_count": 95,
   "metadata": {},
   "outputs": [
    {
     "data": {
      "text/plain": [
       "(5856, 22)"
      ]
     },
     "execution_count": 95,
     "metadata": {},
     "output_type": "execute_result"
    }
   ],
   "source": [
    "env_med.shape"
   ]
  },
  {
   "cell_type": "code",
   "execution_count": null,
   "metadata": {},
   "outputs": [],
   "source": []
  }
 ],
 "metadata": {
  "kernelspec": {
   "display_name": "Python 3",
   "language": "python",
   "name": "python3"
  },
  "language_info": {
   "codemirror_mode": {
    "name": "ipython",
    "version": 3
   },
   "file_extension": ".py",
   "mimetype": "text/x-python",
   "name": "python",
   "nbconvert_exporter": "python",
   "pygments_lexer": "ipython3",
   "version": "3.8.5"
  }
 },
 "nbformat": 4,
 "nbformat_minor": 4
}
